{
  "nbformat": 4,
  "nbformat_minor": 0,
  "metadata": {
    "colab": {
      "name": "QCNNVsCNN.ipynb",
      "version": "0.3.2",
      "provenance": []
    },
    "kernelspec": {
      "name": "python3",
      "display_name": "Python 3"
    },
    "accelerator": "GPU"
  },
  "cells": [
    {
      "cell_type": "code",
      "metadata": {
        "id": "M4iTfaqxPe8H",
        "colab_type": "code",
        "outputId": "ec348c76-71f4-451a-c4a8-da6e6de91308",
        "colab": {
          "base_uri": "https://localhost:8080/",
          "height": 52
        }
      },
      "source": [
        "!pip install -U -q PyDrive\n",
        "from pydrive.auth import GoogleAuth\n",
        "from pydrive.drive import GoogleDrive\n",
        "from google.colab import auth\n",
        "from oauth2client.client import GoogleCredentials\n",
        "import zipfile, os"
      ],
      "execution_count": 0,
      "outputs": [
        {
          "output_type": "stream",
          "text": [
            "\u001b[?25l\r\u001b[K     |▎                               | 10kB 19.1MB/s eta 0:00:01\r\u001b[K     |▋                               | 20kB 24.0MB/s eta 0:00:01\r\u001b[K     |█                               | 30kB 27.9MB/s eta 0:00:01\r\u001b[K     |█▎                              | 40kB 32.0MB/s eta 0:00:01\r\u001b[K     |█▋                              | 51kB 34.3MB/s eta 0:00:01\r\u001b[K     |██                              | 61kB 37.3MB/s eta 0:00:01\r\u001b[K     |██▎                             | 71kB 38.7MB/s eta 0:00:01\r\u001b[K     |██▋                             | 81kB 39.5MB/s eta 0:00:01\r\u001b[K     |███                             | 92kB 41.5MB/s eta 0:00:01\r\u001b[K     |███▎                            | 102kB 43.0MB/s eta 0:00:01\r\u001b[K     |███▋                            | 112kB 43.0MB/s eta 0:00:01\r\u001b[K     |████                            | 122kB 43.0MB/s eta 0:00:01\r\u001b[K     |████▎                           | 133kB 43.0MB/s eta 0:00:01\r\u001b[K     |████▋                           | 143kB 43.0MB/s eta 0:00:01\r\u001b[K     |█████                           | 153kB 43.0MB/s eta 0:00:01\r\u001b[K     |█████▎                          | 163kB 43.0MB/s eta 0:00:01\r\u001b[K     |█████▋                          | 174kB 43.0MB/s eta 0:00:01\r\u001b[K     |██████                          | 184kB 43.0MB/s eta 0:00:01\r\u001b[K     |██████▎                         | 194kB 43.0MB/s eta 0:00:01\r\u001b[K     |██████▋                         | 204kB 43.0MB/s eta 0:00:01\r\u001b[K     |███████                         | 215kB 43.0MB/s eta 0:00:01\r\u001b[K     |███████▎                        | 225kB 43.0MB/s eta 0:00:01\r\u001b[K     |███████▋                        | 235kB 43.0MB/s eta 0:00:01\r\u001b[K     |████████                        | 245kB 43.0MB/s eta 0:00:01\r\u001b[K     |████████▎                       | 256kB 43.0MB/s eta 0:00:01\r\u001b[K     |████████▋                       | 266kB 43.0MB/s eta 0:00:01\r\u001b[K     |█████████                       | 276kB 43.0MB/s eta 0:00:01\r\u001b[K     |█████████▎                      | 286kB 43.0MB/s eta 0:00:01\r\u001b[K     |█████████▋                      | 296kB 43.0MB/s eta 0:00:01\r\u001b[K     |██████████                      | 307kB 43.0MB/s eta 0:00:01\r\u001b[K     |██████████▎                     | 317kB 43.0MB/s eta 0:00:01\r\u001b[K     |██████████▋                     | 327kB 43.0MB/s eta 0:00:01\r\u001b[K     |███████████                     | 337kB 43.0MB/s eta 0:00:01\r\u001b[K     |███████████▎                    | 348kB 43.0MB/s eta 0:00:01\r\u001b[K     |███████████▋                    | 358kB 43.0MB/s eta 0:00:01\r\u001b[K     |████████████                    | 368kB 43.0MB/s eta 0:00:01\r\u001b[K     |████████████▎                   | 378kB 43.0MB/s eta 0:00:01\r\u001b[K     |████████████▋                   | 389kB 43.0MB/s eta 0:00:01\r\u001b[K     |█████████████                   | 399kB 43.0MB/s eta 0:00:01\r\u001b[K     |█████████████▎                  | 409kB 43.0MB/s eta 0:00:01\r\u001b[K     |█████████████▋                  | 419kB 43.0MB/s eta 0:00:01\r\u001b[K     |██████████████                  | 430kB 43.0MB/s eta 0:00:01\r\u001b[K     |██████████████▎                 | 440kB 43.0MB/s eta 0:00:01\r\u001b[K     |██████████████▋                 | 450kB 43.0MB/s eta 0:00:01\r\u001b[K     |███████████████                 | 460kB 43.0MB/s eta 0:00:01\r\u001b[K     |███████████████▎                | 471kB 43.0MB/s eta 0:00:01\r\u001b[K     |███████████████▋                | 481kB 43.0MB/s eta 0:00:01\r\u001b[K     |████████████████                | 491kB 43.0MB/s eta 0:00:01\r\u001b[K     |████████████████▎               | 501kB 43.0MB/s eta 0:00:01\r\u001b[K     |████████████████▋               | 512kB 43.0MB/s eta 0:00:01\r\u001b[K     |█████████████████               | 522kB 43.0MB/s eta 0:00:01\r\u001b[K     |█████████████████▎              | 532kB 43.0MB/s eta 0:00:01\r\u001b[K     |█████████████████▋              | 542kB 43.0MB/s eta 0:00:01\r\u001b[K     |██████████████████              | 552kB 43.0MB/s eta 0:00:01\r\u001b[K     |██████████████████▎             | 563kB 43.0MB/s eta 0:00:01\r\u001b[K     |██████████████████▋             | 573kB 43.0MB/s eta 0:00:01\r\u001b[K     |███████████████████             | 583kB 43.0MB/s eta 0:00:01\r\u001b[K     |███████████████████▎            | 593kB 43.0MB/s eta 0:00:01\r\u001b[K     |███████████████████▋            | 604kB 43.0MB/s eta 0:00:01\r\u001b[K     |████████████████████            | 614kB 43.0MB/s eta 0:00:01\r\u001b[K     |████████████████████▎           | 624kB 43.0MB/s eta 0:00:01\r\u001b[K     |████████████████████▋           | 634kB 43.0MB/s eta 0:00:01\r\u001b[K     |█████████████████████           | 645kB 43.0MB/s eta 0:00:01\r\u001b[K     |█████████████████████▎          | 655kB 43.0MB/s eta 0:00:01\r\u001b[K     |█████████████████████▋          | 665kB 43.0MB/s eta 0:00:01\r\u001b[K     |██████████████████████          | 675kB 43.0MB/s eta 0:00:01\r\u001b[K     |██████████████████████▎         | 686kB 43.0MB/s eta 0:00:01\r\u001b[K     |██████████████████████▋         | 696kB 43.0MB/s eta 0:00:01\r\u001b[K     |███████████████████████         | 706kB 43.0MB/s eta 0:00:01\r\u001b[K     |███████████████████████▎        | 716kB 43.0MB/s eta 0:00:01\r\u001b[K     |███████████████████████▋        | 727kB 43.0MB/s eta 0:00:01\r\u001b[K     |████████████████████████        | 737kB 43.0MB/s eta 0:00:01\r\u001b[K     |████████████████████████▎       | 747kB 43.0MB/s eta 0:00:01\r\u001b[K     |████████████████████████▋       | 757kB 43.0MB/s eta 0:00:01\r\u001b[K     |████████████████████████▉       | 768kB 43.0MB/s eta 0:00:01\r\u001b[K     |█████████████████████████▏      | 778kB 43.0MB/s eta 0:00:01\r\u001b[K     |█████████████████████████▌      | 788kB 43.0MB/s eta 0:00:01\r\u001b[K     |█████████████████████████▉      | 798kB 43.0MB/s eta 0:00:01\r\u001b[K     |██████████████████████████▏     | 808kB 43.0MB/s eta 0:00:01\r\u001b[K     |██████████████████████████▌     | 819kB 43.0MB/s eta 0:00:01\r\u001b[K     |██████████████████████████▉     | 829kB 43.0MB/s eta 0:00:01\r\u001b[K     |███████████████████████████▏    | 839kB 43.0MB/s eta 0:00:01\r\u001b[K     |███████████████████████████▌    | 849kB 43.0MB/s eta 0:00:01\r\u001b[K     |███████████████████████████▉    | 860kB 43.0MB/s eta 0:00:01\r\u001b[K     |████████████████████████████▏   | 870kB 43.0MB/s eta 0:00:01\r\u001b[K     |████████████████████████████▌   | 880kB 43.0MB/s eta 0:00:01\r\u001b[K     |████████████████████████████▉   | 890kB 43.0MB/s eta 0:00:01\r\u001b[K     |█████████████████████████████▏  | 901kB 43.0MB/s eta 0:00:01\r\u001b[K     |█████████████████████████████▌  | 911kB 43.0MB/s eta 0:00:01\r\u001b[K     |█████████████████████████████▉  | 921kB 43.0MB/s eta 0:00:01\r\u001b[K     |██████████████████████████████▏ | 931kB 43.0MB/s eta 0:00:01\r\u001b[K     |██████████████████████████████▌ | 942kB 43.0MB/s eta 0:00:01\r\u001b[K     |██████████████████████████████▉ | 952kB 43.0MB/s eta 0:00:01\r\u001b[K     |███████████████████████████████▏| 962kB 43.0MB/s eta 0:00:01\r\u001b[K     |███████████████████████████████▌| 972kB 43.0MB/s eta 0:00:01\r\u001b[K     |███████████████████████████████▉| 983kB 43.0MB/s eta 0:00:01\r\u001b[K     |████████████████████████████████| 993kB 43.0MB/s \n",
            "\u001b[?25h  Building wheel for PyDrive (setup.py) ... \u001b[?25l\u001b[?25hdone\n"
          ],
          "name": "stdout"
        }
      ]
    },
    {
      "cell_type": "code",
      "metadata": {
        "id": "-qb2z7UZWs6H",
        "colab_type": "code",
        "colab": {}
      },
      "source": [
        "!rm -r logs/"
      ],
      "execution_count": 0,
      "outputs": []
    },
    {
      "cell_type": "code",
      "metadata": {
        "id": "wI6yRBPqPkjv",
        "colab_type": "code",
        "colab": {}
      },
      "source": [
        "# 1. Authenticate and create the PyDrive client.\n",
        "auth.authenticate_user()\n",
        "gauth = GoogleAuth()\n",
        "gauth.credentials = GoogleCredentials.get_application_default()\n",
        "drive = GoogleDrive(gauth)"
      ],
      "execution_count": 0,
      "outputs": []
    },
    {
      "cell_type": "markdown",
      "metadata": {
        "id": "o24ObE63tE3_",
        "colab_type": "text"
      },
      "source": [
        "# Téléchargement des données depuis Google Drive"
      ]
    },
    {
      "cell_type": "code",
      "metadata": {
        "id": "jlGNcyd9PlAj",
        "colab_type": "code",
        "outputId": "c9d1f3f9-daba-49c7-c733-2e19456011a2",
        "colab": {
          "base_uri": "https://localhost:8080/",
          "height": 52
        }
      },
      "source": [
        "\n",
        "zip_id = '1F4PaV8OqG7jPmV7dVIJaOea_2haDtzKe'\n",
        "print (\"Downloading zip file\")\n",
        "myzip = drive.CreateFile({'id': zip_id})\n",
        "myzip.GetContentFile('model.zip')\n",
        "print (\"Uncompressing zip file\")\n",
        "zip_ref = zipfile.ZipFile('model.zip', 'r')\n",
        "zip_ref.extractall()\n",
        "zip_ref.close()"
      ],
      "execution_count": 0,
      "outputs": [
        {
          "output_type": "stream",
          "text": [
            "Downloading zip file\n",
            "Uncompressing zip file\n"
          ],
          "name": "stdout"
        }
      ]
    },
    {
      "cell_type": "code",
      "metadata": {
        "id": "U0YNdn0OPow-",
        "colab_type": "code",
        "outputId": "7331efb1-b7ea-4b83-a36c-5136d59ea88d",
        "colab": {
          "base_uri": "https://localhost:8080/",
          "height": 52
        }
      },
      "source": [
        "zip_id = '19KVMoZUdFjEpU-yOIlgm7ZgOX72yU3me'\n",
        "print (\"Downloading zip file\")\n",
        "myzip = drive.CreateFile({'id': zip_id})\n",
        "myzip.GetContentFile('model.zip')\n",
        "print (\"Uncompressing zip file\")\n",
        "zip_ref = zipfile.ZipFile('model.zip', 'r')\n",
        "zip_ref.extractall()\n",
        "zip_ref.close()"
      ],
      "execution_count": 0,
      "outputs": [
        {
          "output_type": "stream",
          "text": [
            "Downloading zip file\n",
            "Uncompressing zip file\n"
          ],
          "name": "stdout"
        }
      ]
    },
    {
      "cell_type": "code",
      "metadata": {
        "id": "C2QQWOCRPk-o",
        "colab_type": "code",
        "colab": {}
      },
      "source": [
        "def RgbToQuaternion(img):\n",
        " b,g,r = cv2.split(img)\n",
        " \n",
        " M=[]\n",
        " for i in range(r.shape[0]):\n",
        "  t=[]\n",
        "  for j in range(r.shape[1]):\n",
        "   t.append([0.0,r[i][j],g[i][j],b[i][j]])\n",
        "  M.append(t)\n",
        " M=np.array(M)/255.\n",
        " return(np.array(M))\n"
      ],
      "execution_count": 0,
      "outputs": []
    },
    {
      "cell_type": "code",
      "metadata": {
        "id": "c2DVwLIvA_Ga",
        "colab_type": "code",
        "colab": {}
      },
      "source": [
        "def QuaternionToRgb(img):\n",
        "\n",
        " M=[]\n",
        " for i in range(img.shape[0]):\n",
        "  t=[]\n",
        "  for j in range(img.shape[1]):\n",
        "   t.append([img[i][j][3],img[i][j][2],img[i][j][1]])\n",
        "  M.append(t)\n",
        " M=np.array(M)*255\n",
        " return(np.array(M))\n"
      ],
      "execution_count": 0,
      "outputs": []
    },
    {
      "cell_type": "code",
      "metadata": {
        "id": "bLt9NyjlPk8Z",
        "colab_type": "code",
        "colab": {}
      },
      "source": [
        "import numpy as np\n",
        "import matplotlib.pyplot as plt\n",
        "import os\n",
        "import cv2\n",
        "from tqdm import tqdm\n",
        "\n",
        "DATADIR = \"/content\"\n",
        "CATEGORIES = [\"ARR\", \"CHF\",\"NSR\"]"
      ],
      "execution_count": 0,
      "outputs": []
    },
    {
      "cell_type": "markdown",
      "metadata": {
        "id": "NhmqMZkttxnb",
        "colab_type": "text"
      },
      "source": [
        "# Prétraitement  des données Pour le Reseau Qcnn"
      ]
    },
    {
      "cell_type": "code",
      "metadata": {
        "id": "T8erZiimPk6D",
        "colab_type": "code",
        "outputId": "e8320349-aaac-473d-edf5-509660b1cb43",
        "colab": {
          "base_uri": "https://localhost:8080/",
          "height": 69
        }
      },
      "source": [
        "training_data = []\n",
        "allI1= []\n",
        "def create_training_data():\n",
        "    for category in CATEGORIES:  # do dogs and cats\n",
        "\n",
        "        path = os.path.join(DATADIR,category)  # create path to dogs and cats\n",
        "        class_num = CATEGORIES.index(category)  # get the classification  (0 or a 1). 0=dog 1=cat\n",
        "\n",
        "        for img in tqdm(os.listdir(path)):  # iterate over each image per dogs and cats\n",
        "            try:\n",
        "                img_array = cv2.imread(os.path.join(path,img) )  # convert to array\n",
        "                allI1.append(img_array)\n",
        "                training_data.append([RgbToQuaternion(img_array), class_num])  # add this to our training_data\n",
        "            except Exception as e:  # in the interest in keeping the output clean...\n",
        "                pass\n",
        "            #except OSError as e:\n",
        "            #    print(\"OSErrroBad img most likely\", e, os.path.join(path,img))\n",
        "            #except Exception as e:\n",
        "            #    print(\"general exception\", e, os.path.join(path,img))\n",
        "\n",
        "create_training_data()\n",
        "import random\n",
        "\n",
        "random.shuffle(training_data)\n",
        "\n",
        "X = []\n",
        "y = []\n",
        "\n",
        "for features,label in training_data:\n",
        "    X.append(features)\n",
        "    y.append(label)\n",
        "allI1 = np.array(allI1)\n",
        "X = np.array(X)\n",
        "\n",
        "y=np.array(y)\n",
        "\n",
        "import numpy as np\n",
        "from sklearn.model_selection import train_test_split\n",
        "x_train, x_test, y_train, y_test = train_test_split(X, y, test_size=0.3)\n",
        "\n",
        "\n",
        "from keras.utils.np_utils import to_categorical\n",
        "y_train = to_categorical(y_train, 3)\n",
        "y_test = to_categorical(y_test, 3)"
      ],
      "execution_count": 0,
      "outputs": [
        {
          "output_type": "stream",
          "text": [
            "100%|██████████| 96/96 [00:12<00:00,  7.57it/s]\n",
            "100%|██████████| 30/30 [00:03<00:00,  7.59it/s]\n",
            "100%|██████████| 36/36 [00:04<00:00,  7.67it/s]\n"
          ],
          "name": "stderr"
        }
      ]
    },
    {
      "cell_type": "markdown",
      "metadata": {
        "id": "bwpJBtAqt3d9",
        "colab_type": "text"
      },
      "source": [
        "# Augmentation des données"
      ]
    },
    {
      "cell_type": "code",
      "metadata": {
        "id": "yLyd0dRsPk3d",
        "colab_type": "code",
        "colab": {}
      },
      "source": [
        "from keras.preprocessing.image import ImageDataGenerator\n",
        "datagen = ImageDataGenerator( rotation_range=90,width_shift_range=0.1, height_shift_range=0.1,horizontal_flip=True)\n",
        "datagen.fit(x_train)"
      ],
      "execution_count": 0,
      "outputs": []
    },
    {
      "cell_type": "code",
      "metadata": {
        "id": "aogwWKJ1Pk1j",
        "colab_type": "code",
        "colab": {}
      },
      "source": [
        "import numpy                 as np\n",
        "import keras                        \n",
        "from   keras.optimizers      import *\n",
        "from   keras.layers                          import *\n",
        "from   keras.models                          import Model\n",
        "import keras.backend                         as     K\n",
        "from   complexnn             import *\n",
        "from   sklearn.preprocessing import normalize\n",
        "import sys\n",
        "import argparse              as Ap\n",
        "from tensorflow.keras.callbacks import TensorBoard\n",
        "import time"
      ],
      "execution_count": 0,
      "outputs": []
    },
    {
      "cell_type": "code",
      "metadata": {
        "id": "8BNOM-hWPkzu",
        "colab_type": "code",
        "colab": {}
      },
      "source": [
        "from keras.optimizers import SGD\n",
        "opt = adam(lr = 0.001,decay=1e-6)\n",
        "dense_layers = [2]\n",
        "layer_sizes = [64]\n",
        "conv_layers = [3]"
      ],
      "execution_count": 0,
      "outputs": []
    },
    {
      "cell_type": "code",
      "metadata": {
        "id": "UmOrtBzLv7CH",
        "colab_type": "code",
        "colab": {}
      },
      "source": [
        "import keras.backend as K\n",
        "import keras\n",
        "from keras.callbacks import Callback, ModelCheckpoint, LearningRateScheduler\n",
        "import logging as L"
      ],
      "execution_count": 0,
      "outputs": []
    },
    {
      "cell_type": "code",
      "metadata": {
        "id": "3qOW9NhUv758",
        "colab_type": "code",
        "colab": {}
      },
      "source": [
        "\n",
        "\n",
        "# Keep a history of the validation performance.\n",
        "class TrainValHistory(Callback):\n",
        "\tdef __init__(self):\n",
        "\t\tself.train_loss = []\n",
        "\t\tself.train_acc  = []\n",
        "\t\tself.val_loss   = []\n",
        "\t\tself.val_acc    = []\n",
        "\n",
        "\tdef on_epoch_end(self, epoch, logs={}):\n",
        "\t\tself.train_loss.append(logs.get('loss'))\n",
        "\t\tself.train_acc .append(logs.get('acc'))\n",
        "\t\tself.val_loss  .append(logs.get('val_loss'))\n",
        "\t\tself.val_acc   .append(logs.get('val_acc'))\n",
        "\n"
      ],
      "execution_count": 0,
      "outputs": []
    },
    {
      "cell_type": "code",
      "metadata": {
        "id": "qq3gwGNf4lLK",
        "colab_type": "code",
        "colab": {}
      },
      "source": [
        "train_loss1 = []\n",
        "train_acc1  = []\n",
        "val_loss1   = []\n",
        "val_acc1    = []\n",
        "\n",
        "\n"
      ],
      "execution_count": 0,
      "outputs": []
    },
    {
      "cell_type": "markdown",
      "metadata": {
        "id": "3_T3yjrJuFrg",
        "colab_type": "text"
      },
      "source": [
        "# Creation  et entrainement du Reseau Qcnn "
      ]
    },
    {
      "cell_type": "code",
      "metadata": {
        "id": "8M7l0QTAPkxu",
        "colab_type": "code",
        "outputId": "f970c9ca-2b1b-4f77-a2f8-7ad54eed1244",
        "colab": {
          "base_uri": "https://localhost:8080/",
          "height": 3820
        }
      },
      "source": [
        "for dense_layer in dense_layers:\n",
        "    for layer_size in layer_sizes:\n",
        "        for conv_layer in conv_layers:\n",
        "            NAME = \"QCNN-{}-conv-{}-nodes-{}-dense-{}\".format(conv_layer, layer_size, dense_layer, int(time.time()))\n",
        "            print(NAME)\n",
        "            input_seq = Input((224, 224, 4))\n",
        "            O    =QuaternionConv2D(layer_size, (5,5),activation='relu',padding='same')(input_seq)  \n",
        "            O    = MaxPooling2D((4,4), padding='same')(O)\n",
        "            for l in range(conv_layer-1):\n",
        "              O    =QuaternionConv2D(layer_size, (5,5),activation='relu',padding='same')(O)  \n",
        "              O    = MaxPooling2D((4,4), padding='same')(O)\n",
        "            O    = Flatten()(O)\n",
        "            for _ in range(dense_layer):\n",
        "              O  = QuaternionDense(layer_size, activation='relu')(O)\n",
        "            \n",
        "            O = Dense(3, activation='softmax')(O)\n",
        "            model=Model(input_seq, O)\n",
        "            tensorboard = TensorBoard(log_dir=\"logs/{}\".format(NAME))\n",
        "            model.compile(optimizer=opt, loss='categorical_crossentropy', metrics=['accuracy'])\n",
        "            trainValHistCb = TrainValHistory()\n",
        "            mode=\"quaternion\"\n",
        "            callbacks = [trainValHistCb,tensorboard]\n",
        "            model.fit_generator(datagen.flow(x_train, y_train, batch_size=32),\\\n",
        "                    steps_per_epoch=X.shape[0] // 32,epochs=100,\\\n",
        "                    verbose=1,validation_data=(x_test,y_test),callbacks=callbacks)\n",
        "            \n",
        "            train_loss1 = np.asarray(trainValHistCb.train_loss)\n",
        "            train_acc1  = np.asarray(trainValHistCb.train_acc)\n",
        "            val_loss1   = np.asarray(trainValHistCb.val_loss)\n",
        "            val_acc1    = np.asarray(trainValHistCb.val_acc))\n",
        "            \n",
        "            np.savetxt('{}_train_loss.txt'.format(mode), np.asarray(trainValHistCb.train_loss))\n",
        "            np.savetxt('{}_train_acc.txt'.format(mode), np.asarray(trainValHistCb.train_acc))\n",
        "            np.savetxt('{}_val_loss.txt'.format(mode), np.asarray(trainValHistCb.val_loss))\n",
        "            np.savetxt('{}_val_acc.txt'.format(mode), np.asarray(trainValHistCb.val_acc))\n",
        "            #model.fit(x_train, y_train,validation_split=0.3,callbacks=[tensorboard],epochs=50,batch_size=32)\n",
        "            \n",
        "            \n"
      ],
      "execution_count": 0,
      "outputs": [
        {
          "output_type": "stream",
          "text": [
            "QCNN-3-conv-64-nodes-2-dense-1556957391\n",
            "rank= 2\n",
            "filters= 64\n",
            "kernel_size= (5, 5)\n",
            "input_dim= 1\n",
            " self.kernel_shape= (5, 5, 1, 64)  self.kernel_size=  (5, 5)  (input_dim , self.filters)= [1, 64]\n",
            "self.kernel_size + (4 * input_dim, 4 * self.filters)= (5, 5, <tf.Tensor 'quaternion_conv2d_22/mul_1:0' shape=() dtype=int32>, 256)\n",
            "rank= 2\n",
            "filters= 64\n",
            "kernel_size= (5, 5)\n",
            "input_dim= 64\n",
            " self.kernel_shape= (5, 5, 64, 64)  self.kernel_size=  (5, 5)  (input_dim , self.filters)= [64, 64]\n",
            "self.kernel_size + (4 * input_dim, 4 * self.filters)= (5, 5, <tf.Tensor 'quaternion_conv2d_23/mul_1:0' shape=() dtype=int32>, 256)\n",
            "rank= 2\n",
            "filters= 64\n",
            "kernel_size= (5, 5)\n",
            "input_dim= 64\n",
            " self.kernel_shape= (5, 5, 64, 64)  self.kernel_size=  (5, 5)  (input_dim , self.filters)= [64, 64]\n",
            "self.kernel_size + (4 * input_dim, 4 * self.filters)= (5, 5, <tf.Tensor 'quaternion_conv2d_24/mul_1:0' shape=() dtype=int32>, 256)\n",
            "Epoch 1/100\n",
            "5/5 [==============================] - 4s 752ms/step - loss: 3.6287 - acc: 0.6493 - val_loss: 0.9777 - val_acc: 0.5714\n",
            "Epoch 2/100\n",
            "5/5 [==============================] - 2s 355ms/step - loss: 1.0041 - acc: 0.5535 - val_loss: 0.9224 - val_acc: 0.5714\n",
            "Epoch 3/100\n",
            "5/5 [==============================] - 2s 419ms/step - loss: 0.9153 - acc: 0.6019 - val_loss: 0.8531 - val_acc: 0.5714\n",
            "Epoch 4/100\n",
            "5/5 [==============================] - 2s 369ms/step - loss: 0.9787 - acc: 0.5955 - val_loss: 0.8818 - val_acc: 0.5714\n",
            "Epoch 5/100\n",
            "5/5 [==============================] - 2s 427ms/step - loss: 0.9935 - acc: 0.5606 - val_loss: 0.8703 - val_acc: 0.7755\n",
            "Epoch 6/100\n",
            "5/5 [==============================] - 2s 417ms/step - loss: 0.9430 - acc: 0.6026 - val_loss: 0.8058 - val_acc: 0.5714\n",
            "Epoch 7/100\n",
            "5/5 [==============================] - 2s 418ms/step - loss: 0.8161 - acc: 0.6401 - val_loss: 0.6742 - val_acc: 0.7551\n",
            "Epoch 8/100\n",
            "5/5 [==============================] - 2s 368ms/step - loss: 0.9089 - acc: 0.6325 - val_loss: 0.6207 - val_acc: 0.7755\n",
            "Epoch 9/100\n",
            "5/5 [==============================] - 2s 421ms/step - loss: 0.9447 - acc: 0.6083 - val_loss: 0.7667 - val_acc: 0.5918\n",
            "Epoch 10/100\n",
            "5/5 [==============================] - 2s 414ms/step - loss: 0.8229 - acc: 0.6390 - val_loss: 0.7462 - val_acc: 0.7347\n",
            "Epoch 11/100\n",
            "5/5 [==============================] - 2s 420ms/step - loss: 0.8836 - acc: 0.6090 - val_loss: 0.6423 - val_acc: 0.7551\n",
            "Epoch 12/100\n",
            "5/5 [==============================] - 2s 363ms/step - loss: 0.7556 - acc: 0.7036 - val_loss: 0.6174 - val_acc: 0.7755\n",
            "Epoch 13/100\n",
            "5/5 [==============================] - 2s 422ms/step - loss: 0.7415 - acc: 0.6683 - val_loss: 0.6055 - val_acc: 0.7755\n",
            "Epoch 14/100\n",
            "5/5 [==============================] - 2s 415ms/step - loss: 0.8070 - acc: 0.6217 - val_loss: 0.7433 - val_acc: 0.6735\n",
            "Epoch 15/100\n",
            "5/5 [==============================] - 2s 417ms/step - loss: 0.9469 - acc: 0.5945 - val_loss: 0.6242 - val_acc: 0.7551\n",
            "Epoch 16/100\n",
            "5/5 [==============================] - 2s 367ms/step - loss: 0.8005 - acc: 0.6990 - val_loss: 0.6781 - val_acc: 0.6735\n",
            "Epoch 17/100\n",
            "5/5 [==============================] - 2s 427ms/step - loss: 0.8289 - acc: 0.6263 - val_loss: 0.7328 - val_acc: 0.7551\n",
            "Epoch 18/100\n",
            "5/5 [==============================] - 2s 419ms/step - loss: 0.8129 - acc: 0.6344 - val_loss: 0.6312 - val_acc: 0.7755\n",
            "Epoch 19/100\n",
            "5/5 [==============================] - 2s 416ms/step - loss: 0.7602 - acc: 0.6846 - val_loss: 0.5839 - val_acc: 0.7755\n",
            "Epoch 20/100\n",
            "5/5 [==============================] - 2s 368ms/step - loss: 0.7233 - acc: 0.7009 - val_loss: 0.5391 - val_acc: 0.7551\n",
            "Epoch 21/100\n",
            "5/5 [==============================] - 2s 424ms/step - loss: 0.7294 - acc: 0.6899 - val_loss: 0.5342 - val_acc: 0.7959\n",
            "Epoch 22/100\n",
            "5/5 [==============================] - 2s 417ms/step - loss: 0.6985 - acc: 0.6955 - val_loss: 0.5641 - val_acc: 0.7755\n",
            "Epoch 23/100\n",
            "5/5 [==============================] - 2s 417ms/step - loss: 0.7552 - acc: 0.6655 - val_loss: 0.5927 - val_acc: 0.7551\n",
            "Epoch 24/100\n",
            "5/5 [==============================] - 2s 373ms/step - loss: 0.7276 - acc: 0.7296 - val_loss: 0.5630 - val_acc: 0.7551\n",
            "Epoch 25/100\n",
            "5/5 [==============================] - 2s 429ms/step - loss: 0.8473 - acc: 0.6863 - val_loss: 0.5860 - val_acc: 0.7755\n",
            "Epoch 26/100\n",
            "5/5 [==============================] - 2s 418ms/step - loss: 0.7361 - acc: 0.7199 - val_loss: 0.5943 - val_acc: 0.7755\n",
            "Epoch 27/100\n",
            "5/5 [==============================] - 2s 415ms/step - loss: 0.7271 - acc: 0.7209 - val_loss: 0.5899 - val_acc: 0.7959\n",
            "Epoch 28/100\n",
            "5/5 [==============================] - 2s 370ms/step - loss: 0.6921 - acc: 0.7361 - val_loss: 0.5579 - val_acc: 0.7755\n",
            "Epoch 29/100\n",
            "5/5 [==============================] - 2s 424ms/step - loss: 0.6329 - acc: 0.7527 - val_loss: 0.5689 - val_acc: 0.8163\n",
            "Epoch 30/100\n",
            "5/5 [==============================] - 2s 418ms/step - loss: 0.7291 - acc: 0.6708 - val_loss: 0.5539 - val_acc: 0.7959\n",
            "Epoch 31/100\n",
            "5/5 [==============================] - 2s 419ms/step - loss: 0.5795 - acc: 0.7573 - val_loss: 0.8681 - val_acc: 0.7143\n",
            "Epoch 32/100\n",
            "5/5 [==============================] - 2s 366ms/step - loss: 0.8149 - acc: 0.6585 - val_loss: 0.5788 - val_acc: 0.8571\n",
            "Epoch 33/100\n",
            "5/5 [==============================] - 2s 428ms/step - loss: 0.7003 - acc: 0.7291 - val_loss: 0.5390 - val_acc: 0.8367\n",
            "Epoch 34/100\n",
            "5/5 [==============================] - 2s 418ms/step - loss: 0.6149 - acc: 0.7527 - val_loss: 0.6193 - val_acc: 0.7551\n",
            "Epoch 35/100\n",
            "5/5 [==============================] - 2s 416ms/step - loss: 0.6846 - acc: 0.6990 - val_loss: 0.5192 - val_acc: 0.7347\n",
            "Epoch 36/100\n",
            "5/5 [==============================] - 2s 387ms/step - loss: 0.5405 - acc: 0.7620 - val_loss: 0.6543 - val_acc: 0.7755\n",
            "Epoch 37/100\n",
            "5/5 [==============================] - 2s 471ms/step - loss: 0.6728 - acc: 0.6909 - val_loss: 0.5503 - val_acc: 0.7959\n",
            "Epoch 38/100\n",
            "5/5 [==============================] - 2s 459ms/step - loss: 0.5418 - acc: 0.7718 - val_loss: 0.5719 - val_acc: 0.7551\n",
            "Epoch 39/100\n",
            "5/5 [==============================] - 2s 462ms/step - loss: 0.5484 - acc: 0.7245 - val_loss: 0.5378 - val_acc: 0.7551\n",
            "Epoch 40/100\n",
            "5/5 [==============================] - 2s 409ms/step - loss: 0.6525 - acc: 0.7185 - val_loss: 0.5835 - val_acc: 0.7755\n",
            "Epoch 41/100\n",
            "5/5 [==============================] - 2s 426ms/step - loss: 0.6215 - acc: 0.7344 - val_loss: 0.5394 - val_acc: 0.7347\n",
            "Epoch 42/100\n",
            "5/5 [==============================] - 2s 414ms/step - loss: 0.5120 - acc: 0.7972 - val_loss: 0.5234 - val_acc: 0.7755\n",
            "Epoch 43/100\n",
            "5/5 [==============================] - 2s 411ms/step - loss: 0.5571 - acc: 0.7672 - val_loss: 0.5623 - val_acc: 0.7959\n",
            "Epoch 44/100\n",
            "5/5 [==============================] - 2s 365ms/step - loss: 0.5067 - acc: 0.7869 - val_loss: 0.6589 - val_acc: 0.7143\n",
            "Epoch 45/100\n",
            "5/5 [==============================] - 2s 419ms/step - loss: 0.5821 - acc: 0.7291 - val_loss: 0.4984 - val_acc: 0.7755\n",
            "Epoch 46/100\n",
            "5/5 [==============================] - 2s 410ms/step - loss: 0.5121 - acc: 0.7828 - val_loss: 0.4693 - val_acc: 0.7959\n",
            "Epoch 47/100\n",
            "5/5 [==============================] - 2s 414ms/step - loss: 0.5258 - acc: 0.7665 - val_loss: 0.6103 - val_acc: 0.7347\n",
            "Epoch 48/100\n",
            "5/5 [==============================] - 2s 363ms/step - loss: 0.4368 - acc: 0.8167 - val_loss: 0.5044 - val_acc: 0.7755\n",
            "Epoch 49/100\n",
            "5/5 [==============================] - 2s 424ms/step - loss: 0.5940 - acc: 0.7799 - val_loss: 0.5989 - val_acc: 0.7755\n",
            "Epoch 50/100\n",
            "5/5 [==============================] - 2s 414ms/step - loss: 0.4952 - acc: 0.7736 - val_loss: 0.5798 - val_acc: 0.6939\n",
            "Epoch 51/100\n",
            "5/5 [==============================] - 2s 415ms/step - loss: 0.5457 - acc: 0.7326 - val_loss: 0.5308 - val_acc: 0.7959\n",
            "Epoch 52/100\n",
            "5/5 [==============================] - 2s 368ms/step - loss: 0.4559 - acc: 0.8231 - val_loss: 0.4950 - val_acc: 0.7755\n",
            "Epoch 53/100\n",
            "5/5 [==============================] - 2s 422ms/step - loss: 0.4929 - acc: 0.7736 - val_loss: 0.5413 - val_acc: 0.7551\n",
            "Epoch 54/100\n",
            "5/5 [==============================] - 2s 414ms/step - loss: 0.4940 - acc: 0.7920 - val_loss: 0.5657 - val_acc: 0.7755\n",
            "Epoch 55/100\n",
            "5/5 [==============================] - 2s 415ms/step - loss: 0.4859 - acc: 0.7955 - val_loss: 0.5564 - val_acc: 0.7551\n",
            "Epoch 56/100\n",
            "5/5 [==============================] - 2s 369ms/step - loss: 0.4659 - acc: 0.7796 - val_loss: 0.5834 - val_acc: 0.7347\n",
            "Epoch 57/100\n",
            "5/5 [==============================] - 2s 422ms/step - loss: 0.4556 - acc: 0.8082 - val_loss: 0.5686 - val_acc: 0.8163\n",
            "Epoch 58/100\n",
            "5/5 [==============================] - 2s 417ms/step - loss: 0.3632 - acc: 0.8400 - val_loss: 0.5089 - val_acc: 0.7755\n",
            "Epoch 59/100\n",
            "5/5 [==============================] - 2s 416ms/step - loss: 0.3557 - acc: 0.8428 - val_loss: 0.5951 - val_acc: 0.7959\n",
            "Epoch 60/100\n",
            "5/5 [==============================] - 2s 366ms/step - loss: 0.4395 - acc: 0.8121 - val_loss: 0.5548 - val_acc: 0.8163\n",
            "Epoch 61/100\n",
            "5/5 [==============================] - 2s 421ms/step - loss: 0.5174 - acc: 0.7990 - val_loss: 0.5270 - val_acc: 0.7551\n",
            "Epoch 62/100\n",
            "5/5 [==============================] - 2s 416ms/step - loss: 0.6210 - acc: 0.7291 - val_loss: 0.6430 - val_acc: 0.5918\n",
            "Epoch 63/100\n",
            "5/5 [==============================] - 2s 413ms/step - loss: 0.5065 - acc: 0.7580 - val_loss: 0.5363 - val_acc: 0.7959\n",
            "Epoch 64/100\n",
            "5/5 [==============================] - 2s 367ms/step - loss: 0.4582 - acc: 0.8315 - val_loss: 0.5212 - val_acc: 0.7347\n",
            "Epoch 65/100\n",
            "5/5 [==============================] - 2s 423ms/step - loss: 0.5393 - acc: 0.7563 - val_loss: 0.5070 - val_acc: 0.7551\n",
            "Epoch 66/100\n",
            "5/5 [==============================] - 2s 417ms/step - loss: 0.4588 - acc: 0.7881 - val_loss: 0.5301 - val_acc: 0.7551\n",
            "Epoch 67/100\n",
            "5/5 [==============================] - 2s 418ms/step - loss: 0.4486 - acc: 0.7453 - val_loss: 0.5457 - val_acc: 0.7551\n",
            "Epoch 68/100\n",
            "5/5 [==============================] - 2s 367ms/step - loss: 0.4106 - acc: 0.8194 - val_loss: 0.5548 - val_acc: 0.7755\n",
            "Epoch 69/100\n",
            "5/5 [==============================] - 2s 420ms/step - loss: 0.4030 - acc: 0.8382 - val_loss: 0.5304 - val_acc: 0.7551\n",
            "Epoch 70/100\n",
            "5/5 [==============================] - 2s 414ms/step - loss: 0.3210 - acc: 0.9000 - val_loss: 0.6175 - val_acc: 0.7551\n",
            "Epoch 71/100\n",
            "5/5 [==============================] - 2s 419ms/step - loss: 0.4166 - acc: 0.8227 - val_loss: 0.5654 - val_acc: 0.7755\n",
            "Epoch 72/100\n",
            "5/5 [==============================] - 2s 368ms/step - loss: 0.3334 - acc: 0.8426 - val_loss: 0.6658 - val_acc: 0.7551\n",
            "Epoch 73/100\n",
            "5/5 [==============================] - 2s 422ms/step - loss: 0.3123 - acc: 0.8562 - val_loss: 0.5957 - val_acc: 0.7551\n",
            "Epoch 74/100\n",
            "5/5 [==============================] - 2s 414ms/step - loss: 0.3474 - acc: 0.8354 - val_loss: 0.5948 - val_acc: 0.7755\n",
            "Epoch 75/100\n",
            "5/5 [==============================] - 2s 433ms/step - loss: 0.3975 - acc: 0.8262 - val_loss: 0.5463 - val_acc: 0.7347\n",
            "Epoch 76/100\n",
            "5/5 [==============================] - 2s 412ms/step - loss: 0.2674 - acc: 0.8705 - val_loss: 0.5883 - val_acc: 0.8163\n",
            "Epoch 77/100\n",
            "5/5 [==============================] - 2s 471ms/step - loss: 0.3340 - acc: 0.8619 - val_loss: 0.5554 - val_acc: 0.7959\n",
            "Epoch 78/100\n",
            "5/5 [==============================] - 2s 469ms/step - loss: 0.3576 - acc: 0.8591 - val_loss: 0.5620 - val_acc: 0.7755\n",
            "Epoch 79/100\n",
            "5/5 [==============================] - 2s 465ms/step - loss: 0.3664 - acc: 0.8509 - val_loss: 0.6583 - val_acc: 0.7551\n",
            "Epoch 80/100\n",
            "5/5 [==============================] - 2s 378ms/step - loss: 0.2890 - acc: 0.8980 - val_loss: 0.5684 - val_acc: 0.7755\n",
            "Epoch 81/100\n",
            "5/5 [==============================] - 2s 428ms/step - loss: 0.2622 - acc: 0.9036 - val_loss: 0.5614 - val_acc: 0.7755\n",
            "Epoch 82/100\n",
            "5/5 [==============================] - 2s 422ms/step - loss: 0.2977 - acc: 0.8654 - val_loss: 0.5253 - val_acc: 0.7755\n",
            "Epoch 83/100\n",
            "5/5 [==============================] - 2s 419ms/step - loss: 0.4845 - acc: 0.7881 - val_loss: 0.7522 - val_acc: 0.7143\n",
            "Epoch 84/100\n",
            "5/5 [==============================] - 2s 366ms/step - loss: 0.2970 - acc: 0.8824 - val_loss: 0.8078 - val_acc: 0.7551\n",
            "Epoch 85/100\n",
            "5/5 [==============================] - 2s 420ms/step - loss: 0.2937 - acc: 0.8845 - val_loss: 0.5687 - val_acc: 0.7755\n",
            "Epoch 86/100\n",
            "5/5 [==============================] - 2s 421ms/step - loss: 0.2877 - acc: 0.8509 - val_loss: 0.5640 - val_acc: 0.7959\n",
            "Epoch 87/100\n",
            "5/5 [==============================] - 2s 415ms/step - loss: 0.3517 - acc: 0.8545 - val_loss: 0.6585 - val_acc: 0.7551\n",
            "Epoch 88/100\n",
            "5/5 [==============================] - 2s 370ms/step - loss: 0.3256 - acc: 0.8583 - val_loss: 0.4672 - val_acc: 0.8163\n",
            "Epoch 89/100\n",
            "5/5 [==============================] - 2s 432ms/step - loss: 0.2845 - acc: 0.8672 - val_loss: 0.5272 - val_acc: 0.7959\n",
            "Epoch 90/100\n",
            "5/5 [==============================] - 2s 418ms/step - loss: 0.2899 - acc: 0.8845 - val_loss: 0.5334 - val_acc: 0.8367\n",
            "Epoch 91/100\n",
            "5/5 [==============================] - 2s 418ms/step - loss: 0.4375 - acc: 0.8354 - val_loss: 0.8537 - val_acc: 0.6939\n",
            "Epoch 92/100\n",
            "5/5 [==============================] - 2s 371ms/step - loss: 0.3858 - acc: 0.8296 - val_loss: 0.7792 - val_acc: 0.7551\n",
            "Epoch 93/100\n",
            "5/5 [==============================] - 2s 423ms/step - loss: 0.2755 - acc: 0.8746 - val_loss: 0.6021 - val_acc: 0.7959\n",
            "Epoch 94/100\n",
            "5/5 [==============================] - 2s 429ms/step - loss: 0.1971 - acc: 0.9226 - val_loss: 0.6017 - val_acc: 0.7959\n",
            "Epoch 95/100\n",
            "5/5 [==============================] - 2s 417ms/step - loss: 0.2363 - acc: 0.8845 - val_loss: 0.5254 - val_acc: 0.7755\n",
            "Epoch 96/100\n",
            "5/5 [==============================] - 2s 370ms/step - loss: 0.2798 - acc: 0.8759 - val_loss: 0.6860 - val_acc: 0.7551\n",
            "Epoch 97/100\n",
            "5/5 [==============================] - 2s 429ms/step - loss: 0.3152 - acc: 0.8700 - val_loss: 0.5803 - val_acc: 0.7755\n",
            "Epoch 98/100\n",
            "5/5 [==============================] - 2s 415ms/step - loss: 0.3098 - acc: 0.8573 - val_loss: 0.7322 - val_acc: 0.8163\n",
            "Epoch 99/100\n",
            "5/5 [==============================] - 2s 417ms/step - loss: 0.3237 - acc: 0.8937 - val_loss: 0.6013 - val_acc: 0.7551\n",
            "Epoch 100/100\n",
            "5/5 [==============================] - 2s 394ms/step - loss: 0.2244 - acc: 0.9037 - val_loss: 0.5377 - val_acc: 0.7551\n"
          ],
          "name": "stdout"
        }
      ]
    },
    {
      "cell_type": "code",
      "metadata": {
        "id": "o4ohwEJF5-12",
        "colab_type": "code",
        "colab": {}
      },
      "source": [
        "train_loss1 = np.asarray(train_loss1.train_loss)\n",
        "train_acc1  = np.asarray(train_acc1.train_acc)\n",
        "val_loss1   = np.asarray(val_loss1.val_loss)\n",
        "val_acc1    = np.asarray(val_acc1.val_acc)"
      ],
      "execution_count": 0,
      "outputs": []
    },
    {
      "cell_type": "markdown",
      "metadata": {
        "id": "H6roM8TJulVb",
        "colab_type": "text"
      },
      "source": [
        "# Matrice de confusion Qcnn"
      ]
    },
    {
      "cell_type": "code",
      "metadata": {
        "id": "Pq2uhxoG8AVv",
        "colab_type": "code",
        "outputId": "b84225e5-29b4-4564-b5d2-f37926c54389",
        "colab": {
          "base_uri": "https://localhost:8080/",
          "height": 69
        }
      },
      "source": [
        "predictions = model.predict(X)\n",
        "y_pred = (predictions > 0.5)\n",
        "from sklearn.metrics import confusion_matrix\n",
        "matrix =confusion_matrix(y, y_pred.argmax(axis=1))/1.\n",
        "matrix[0,]=matrix[0,]/np.sum(matrix[0,])\n",
        "matrix[1,]=matrix[1,]/np.sum(matrix[1,])\n",
        "matrix[2,]=matrix[2,]/np.sum(matrix[2,])\n",
        "matrix"
      ],
      "execution_count": 0,
      "outputs": [
        {
          "output_type": "execute_result",
          "data": {
            "text/plain": [
              "array([[0.85, 0.1 , 0.04],\n",
              "       [0.23, 0.77, 0.  ],\n",
              "       [0.06, 0.  , 0.94]])"
            ]
          },
          "metadata": {
            "tags": []
          },
          "execution_count": 176
        }
      ]
    },
    {
      "cell_type": "markdown",
      "metadata": {
        "id": "aGAabjRvu4fR",
        "colab_type": "text"
      },
      "source": [
        "# Courbes Roc -Qcnn"
      ]
    },
    {
      "cell_type": "code",
      "metadata": {
        "id": "_476wMXiO0L8",
        "colab_type": "code",
        "colab": {}
      },
      "source": [
        "!pip install scikit-plot"
      ],
      "execution_count": 0,
      "outputs": []
    },
    {
      "cell_type": "code",
      "metadata": {
        "id": "pOiDIV6dLCQs",
        "colab_type": "code",
        "outputId": "a146b6a3-680f-4505-8a43-eb75be5db46b",
        "colab": {
          "base_uri": "https://localhost:8080/",
          "height": 363
        }
      },
      "source": [
        "import scikitplot as skplt\n",
        "import matplotlib.pyplot as plt\n",
        "skplt.metrics.plot_roc_curve(y, predictions)\n",
        "plt.show()\n",
        "plt.savefig('Roc.png')"
      ],
      "execution_count": 0,
      "outputs": [
        {
          "output_type": "stream",
          "text": [
            "/usr/local/lib/python3.6/dist-packages/sklearn/utils/deprecation.py:77: DeprecationWarning: Function plot_roc_curve is deprecated; This will be removed in v0.5.0. Please use scikitplot.metrics.plot_roc instead.\n",
            "  warnings.warn(msg, category=DeprecationWarning)\n"
          ],
          "name": "stderr"
        },
        {
          "output_type": "display_data",
          "data": {
            "image/png": "[encoded data removed]",
            "text/plain": [
              "<Figure size 432x288 with 1 Axes>"
            ]
          },
          "metadata": {
            "tags": []
          }
        },
        {
          "output_type": "display_data",
          "data": {
            "text/plain": [
              "<Figure size 432x288 with 0 Axes>"
            ]
          },
          "metadata": {
            "tags": []
          }
        }
      ]
    },
    {
      "cell_type": "markdown",
      "metadata": {
        "id": "XfrDhy7pvHbu",
        "colab_type": "text"
      },
      "source": [
        "# Prétraitement  des données Pour le Reseau Cnn"
      ]
    },
    {
      "cell_type": "code",
      "metadata": {
        "id": "8p4kLUUcPkva",
        "colab_type": "code",
        "outputId": "3b092c29-5260-458b-d1ef-40991ddb1dcd",
        "colab": {
          "base_uri": "https://localhost:8080/",
          "height": 69
        }
      },
      "source": [
        "training_data = []\n",
        "allI2= []\n",
        "def create_training_data():\n",
        "    for category in CATEGORIES:  # do dogs and cats\n",
        "\n",
        "        path = os.path.join(DATADIR,category)  # create path to dogs and cats\n",
        "        class_num = CATEGORIES.index(category)  # get the classification  (0 or a 1). 0=dog 1=cat\n",
        "\n",
        "        for img in tqdm(os.listdir(path)):  # iterate over each image per dogs and cats\n",
        "            try:\n",
        "                img_array = cv2.imread(os.path.join(path,img) )  # convert to array\n",
        "                allI2.append(img_array) \n",
        "                training_data.append([img_array, class_num])  # add this to our training_data\n",
        "            except Exception as e:  # in the interest in keeping the output clean...\n",
        "                pass\n",
        "            #except OSError as e:\n",
        "            #    print(\"OSErrroBad img most likely\", e, os.path.join(path,img))\n",
        "            #except Exception as e:\n",
        "            #    print(\"general exception\", e, os.path.join(path,img))\n",
        "\n",
        "create_training_data()\n",
        "import random\n",
        "\n",
        "random.shuffle(training_data)\n",
        "\n",
        "X = []\n",
        "y = []\n",
        "\n",
        "for features,label in training_data:\n",
        "    X.append(features)\n",
        "    y.append(label)\n",
        "\n",
        "allI2 = np.array(allI2)\n",
        "X = np.array(X)/255.\n",
        "y=np.array(y)\n",
        "\n",
        "import numpy as np\n",
        "from sklearn.model_selection import train_test_split\n",
        "x_train, x_test, y_train, y_test = train_test_split(X, y, test_size=0.3)\n",
        "\n",
        "\n",
        "from keras.utils.np_utils import to_categorical\n",
        "y_train = to_categorical(y_train, 3)\n",
        "y_test = to_categorical(y_test, 3)\n",
        "\n",
        "\n"
      ],
      "execution_count": 0,
      "outputs": [
        {
          "output_type": "stream",
          "text": [
            "100%|██████████| 96/96 [00:00<00:00, 1618.28it/s]\n",
            "100%|██████████| 30/30 [00:00<00:00, 1506.41it/s]\n",
            "100%|██████████| 36/36 [00:00<00:00, 1523.06it/s]\n"
          ],
          "name": "stderr"
        }
      ]
    },
    {
      "cell_type": "markdown",
      "metadata": {
        "id": "zJDVoO9kvZRC",
        "colab_type": "text"
      },
      "source": [
        "# Augmentation des données "
      ]
    },
    {
      "cell_type": "code",
      "metadata": {
        "id": "eVPo42rnPktU",
        "colab_type": "code",
        "colab": {}
      },
      "source": [
        "from keras.preprocessing.image import ImageDataGenerator\n",
        "datagen = ImageDataGenerator( rotation_range=90,width_shift_range=0.1, height_shift_range=0.1,horizontal_flip=True)\n",
        "datagen.fit(x_train)\n",
        "opt = Adam(lr = 0.0001,decay=1e-6)"
      ],
      "execution_count": 0,
      "outputs": []
    },
    {
      "cell_type": "code",
      "metadata": {
        "id": "UWj2MfhwVaXp",
        "colab_type": "code",
        "colab": {}
      },
      "source": [
        "import keras\n",
        "from keras.models import Sequential\n",
        "from keras.utils import np_utils\n",
        "from keras.preprocessing.image import ImageDataGenerator\n",
        "from keras.layers import Dense, Activation, Flatten, Dropout, BatchNormalization\n",
        "from keras.layers import Conv2D, MaxPooling2D\n",
        "from keras.datasets import cifar10\n",
        "from keras import regularizers\n",
        "from keras.callbacks import LearningRateScheduler\n",
        "import numpy as np"
      ],
      "execution_count": 0,
      "outputs": []
    },
    {
      "cell_type": "code",
      "metadata": {
        "id": "rQb1StyETfWm",
        "colab_type": "code",
        "colab": {}
      },
      "source": [
        "\n",
        "dense_layers = [2]\n",
        "layer_sizes = [64]\n",
        "conv_layers = [3]"
      ],
      "execution_count": 0,
      "outputs": []
    },
    {
      "cell_type": "markdown",
      "metadata": {
        "id": "CN_Sv0xdvcH4",
        "colab_type": "text"
      },
      "source": [
        "# Creation  et entrainement du Reseau Cnn "
      ]
    },
    {
      "cell_type": "code",
      "metadata": {
        "id": "QtfqsfmDPkrO",
        "colab_type": "code",
        "outputId": "9bea7137-de9c-4510-8f82-d919db028419",
        "colab": {
          "base_uri": "https://localhost:8080/",
          "height": 6981
        }
      },
      "source": [
        "for dense_layer in dense_layers:\n",
        "    for layer_size in layer_sizes:\n",
        "        for conv_layer in conv_layers:\n",
        "            NAME = \"CNN-{}-conv-{}-nodes-{}-dense-{}\".format(conv_layer, layer_size, dense_layer, int(time.time()))\n",
        "            print(NAME)\n",
        "\n",
        "            model = Sequential()\n",
        "\n",
        "            model.add(Conv2D(layer_size, (5, 5), input_shape=x_train.shape[1:]))\n",
        "            model.add(Activation('relu'))\n",
        "            model.add(MaxPooling2D(pool_size=(4, 4)))\n",
        "\n",
        "            for l in range(conv_layer-1):\n",
        "                model.add(Conv2D(layer_size, (5, 5)))\n",
        "                model.add(Activation('relu'))\n",
        "                model.add(MaxPooling2D(pool_size=(4, 4)))\n",
        "\n",
        "            model.add(Flatten())\n",
        "\n",
        "            for _ in range(dense_layer):\n",
        "                model.add(Dense(512))\n",
        "                model.add(Activation('relu'))\n",
        "                model.add(Dropout(0.2))\n",
        "\n",
        "            model.add(Dense(3))\n",
        "            model.add(Activation('sigmoid'))\n",
        "\n",
        "            tensorboard = TensorBoard(log_dir=\"logs/{}\".format(NAME))\n",
        "\n",
        "            model.compile(loss='categorical_crossentropy',\n",
        "                          optimizer=opt,\n",
        "                          metrics=['accuracy'],\n",
        "                          )\n",
        "\n",
        "            model.fit_generator(datagen.flow(x_train, y_train, batch_size=32),\\\n",
        "                    steps_per_epoch=X.shape[0] // 32,epochs=200,\\\n",
        "                    verbose=1,validation_data=(x_test,y_test),callbacks=[tensorboard])\n",
        "            "
      ],
      "execution_count": 0,
      "outputs": [
        {
          "output_type": "stream",
          "text": [
            "CNN-3-conv-32-nodes-2-dense-1556967903\n",
            "Epoch 1/200\n",
            "5/5 [==============================] - 4s 796ms/step - loss: 1.0686 - acc: 0.5546 - val_loss: 1.0450 - val_acc: 0.5510\n",
            "Epoch 2/200\n",
            "5/5 [==============================] - 0s 43ms/step - loss: 1.0142 - acc: 0.6355 - val_loss: 1.0046 - val_acc: 0.5510\n",
            "Epoch 3/200\n",
            "5/5 [==============================] - 1s 211ms/step - loss: 0.9624 - acc: 0.6054 - val_loss: 0.9738 - val_acc: 0.5510\n",
            "Epoch 4/200\n",
            "5/5 [==============================] - 1s 239ms/step - loss: 0.9167 - acc: 0.6138 - val_loss: 0.9777 - val_acc: 0.5510\n",
            "Epoch 5/200\n",
            "5/5 [==============================] - 1s 264ms/step - loss: 0.9353 - acc: 0.6037 - val_loss: 1.0007 - val_acc: 0.5510\n",
            "Epoch 6/200\n",
            "5/5 [==============================] - 1s 265ms/step - loss: 0.8954 - acc: 0.6319 - val_loss: 1.0032 - val_acc: 0.5510\n",
            "Epoch 7/200\n",
            "5/5 [==============================] - 1s 260ms/step - loss: 0.8678 - acc: 0.6401 - val_loss: 0.9859 - val_acc: 0.5510\n",
            "Epoch 8/200\n",
            "5/5 [==============================] - 1s 237ms/step - loss: 0.9534 - acc: 0.5760 - val_loss: 0.9763 - val_acc: 0.5510\n",
            "Epoch 9/200\n",
            "5/5 [==============================] - 1s 264ms/step - loss: 0.9128 - acc: 0.6054 - val_loss: 0.9695 - val_acc: 0.5510\n",
            "Epoch 10/200\n",
            "5/5 [==============================] - 1s 266ms/step - loss: 0.9180 - acc: 0.6175 - val_loss: 0.9644 - val_acc: 0.5510\n",
            "Epoch 11/200\n",
            "5/5 [==============================] - 1s 261ms/step - loss: 0.8603 - acc: 0.6355 - val_loss: 0.9661 - val_acc: 0.5510\n",
            "Epoch 12/200\n",
            "5/5 [==============================] - 1s 242ms/step - loss: 0.9106 - acc: 0.6028 - val_loss: 0.9619 - val_acc: 0.5510\n",
            "Epoch 13/200\n",
            "5/5 [==============================] - 2s 313ms/step - loss: 0.9272 - acc: 0.5881 - val_loss: 0.9540 - val_acc: 0.5510\n",
            "Epoch 14/200\n",
            "5/5 [==============================] - 2s 308ms/step - loss: 0.8947 - acc: 0.5910 - val_loss: 0.9463 - val_acc: 0.5510\n",
            "Epoch 15/200\n",
            "5/5 [==============================] - 2s 309ms/step - loss: 0.8058 - acc: 0.6800 - val_loss: 0.9376 - val_acc: 0.5510\n",
            "Epoch 16/200\n",
            "5/5 [==============================] - 1s 273ms/step - loss: 0.9398 - acc: 0.5695 - val_loss: 0.9323 - val_acc: 0.5510\n",
            "Epoch 17/200\n",
            "5/5 [==============================] - 2s 307ms/step - loss: 0.8997 - acc: 0.6026 - val_loss: 0.9290 - val_acc: 0.5510\n",
            "Epoch 18/200\n",
            "5/5 [==============================] - 2s 309ms/step - loss: 0.8678 - acc: 0.6164 - val_loss: 0.9272 - val_acc: 0.5510\n",
            "Epoch 19/200\n",
            "5/5 [==============================] - 1s 284ms/step - loss: 0.8548 - acc: 0.6146 - val_loss: 0.9295 - val_acc: 0.5510\n",
            "Epoch 20/200\n",
            "5/5 [==============================] - 1s 237ms/step - loss: 0.8762 - acc: 0.5909 - val_loss: 0.9108 - val_acc: 0.5510\n",
            "Epoch 21/200\n",
            "5/5 [==============================] - 1s 270ms/step - loss: 0.8964 - acc: 0.5726 - val_loss: 0.8950 - val_acc: 0.5510\n",
            "Epoch 22/200\n",
            "5/5 [==============================] - 1s 263ms/step - loss: 0.8546 - acc: 0.6263 - val_loss: 0.8814 - val_acc: 0.5510\n",
            "Epoch 23/200\n",
            "5/5 [==============================] - 1s 265ms/step - loss: 0.8517 - acc: 0.6100 - val_loss: 0.8733 - val_acc: 0.5510\n",
            "Epoch 24/200\n",
            "5/5 [==============================] - 1s 235ms/step - loss: 0.8318 - acc: 0.6111 - val_loss: 0.8739 - val_acc: 0.5510\n",
            "Epoch 25/200\n",
            "5/5 [==============================] - 1s 263ms/step - loss: 0.8645 - acc: 0.6037 - val_loss: 0.8751 - val_acc: 0.5510\n",
            "Epoch 26/200\n",
            "5/5 [==============================] - 1s 264ms/step - loss: 0.7992 - acc: 0.6182 - val_loss: 0.8514 - val_acc: 0.5510\n",
            "Epoch 27/200\n",
            "5/5 [==============================] - 1s 262ms/step - loss: 0.8316 - acc: 0.6309 - val_loss: 0.8384 - val_acc: 0.6122\n",
            "Epoch 28/200\n",
            "5/5 [==============================] - 1s 237ms/step - loss: 0.8622 - acc: 0.6176 - val_loss: 0.8416 - val_acc: 0.6122\n",
            "Epoch 29/200\n",
            "5/5 [==============================] - 1s 263ms/step - loss: 0.7960 - acc: 0.6701 - val_loss: 0.8333 - val_acc: 0.6327\n",
            "Epoch 30/200\n",
            "5/5 [==============================] - 1s 261ms/step - loss: 0.8485 - acc: 0.6418 - val_loss: 0.8267 - val_acc: 0.6327\n",
            "Epoch 31/200\n",
            "5/5 [==============================] - 1s 262ms/step - loss: 0.8936 - acc: 0.6044 - val_loss: 0.8308 - val_acc: 0.6327\n",
            "Epoch 32/200\n",
            "5/5 [==============================] - 1s 239ms/step - loss: 0.8390 - acc: 0.6371 - val_loss: 0.8269 - val_acc: 0.6531\n",
            "Epoch 33/200\n",
            "5/5 [==============================] - 1s 266ms/step - loss: 0.8303 - acc: 0.6528 - val_loss: 0.8268 - val_acc: 0.6531\n",
            "Epoch 34/200\n",
            "5/5 [==============================] - 1s 262ms/step - loss: 0.8061 - acc: 0.6418 - val_loss: 0.8203 - val_acc: 0.6531\n",
            "Epoch 35/200\n",
            "5/5 [==============================] - 1s 263ms/step - loss: 0.8201 - acc: 0.6344 - val_loss: 0.8083 - val_acc: 0.6531\n",
            "Epoch 36/200\n",
            "5/5 [==============================] - 1s 238ms/step - loss: 0.7974 - acc: 0.6536 - val_loss: 0.8059 - val_acc: 0.6735\n",
            "Epoch 37/200\n",
            "5/5 [==============================] - 1s 265ms/step - loss: 0.8418 - acc: 0.6100 - val_loss: 0.7926 - val_acc: 0.6939\n",
            "Epoch 38/200\n",
            "5/5 [==============================] - 1s 263ms/step - loss: 0.8064 - acc: 0.6591 - val_loss: 0.8009 - val_acc: 0.6735\n",
            "Epoch 39/200\n",
            "5/5 [==============================] - 1s 261ms/step - loss: 0.8116 - acc: 0.6701 - val_loss: 0.7920 - val_acc: 0.7143\n",
            "Epoch 40/200\n",
            "5/5 [==============================] - 1s 238ms/step - loss: 0.8288 - acc: 0.6260 - val_loss: 0.7921 - val_acc: 0.6735\n",
            "Epoch 41/200\n",
            "5/5 [==============================] - 1s 263ms/step - loss: 0.8156 - acc: 0.6464 - val_loss: 0.8002 - val_acc: 0.6939\n",
            "Epoch 42/200\n",
            "5/5 [==============================] - 1s 260ms/step - loss: 0.8128 - acc: 0.6464 - val_loss: 0.7981 - val_acc: 0.7347\n",
            "Epoch 43/200\n",
            "5/5 [==============================] - 1s 264ms/step - loss: 0.7967 - acc: 0.6245 - val_loss: 0.7864 - val_acc: 0.7755\n",
            "Epoch 44/200\n",
            "5/5 [==============================] - 1s 235ms/step - loss: 0.8176 - acc: 0.6704 - val_loss: 0.7839 - val_acc: 0.6939\n",
            "Epoch 45/200\n",
            "5/5 [==============================] - 1s 267ms/step - loss: 0.7858 - acc: 0.6591 - val_loss: 0.7797 - val_acc: 0.7347\n",
            "Epoch 46/200\n",
            "5/5 [==============================] - 1s 263ms/step - loss: 0.8080 - acc: 0.6574 - val_loss: 0.7700 - val_acc: 0.7347\n",
            "Epoch 47/200\n",
            "5/5 [==============================] - 1s 263ms/step - loss: 0.7869 - acc: 0.5864 - val_loss: 0.7709 - val_acc: 0.7347\n",
            "Epoch 48/200\n",
            "5/5 [==============================] - 1s 237ms/step - loss: 0.7705 - acc: 0.6963 - val_loss: 0.7600 - val_acc: 0.7551\n",
            "Epoch 49/200\n",
            "5/5 [==============================] - 1s 270ms/step - loss: 0.8029 - acc: 0.6863 - val_loss: 0.7661 - val_acc: 0.7755\n",
            "Epoch 50/200\n",
            "5/5 [==============================] - 1s 264ms/step - loss: 0.8325 - acc: 0.6118 - val_loss: 0.7800 - val_acc: 0.7347\n",
            "Epoch 51/200\n",
            "5/5 [==============================] - 1s 264ms/step - loss: 0.7842 - acc: 0.6736 - val_loss: 0.7572 - val_acc: 0.7551\n",
            "Epoch 52/200\n",
            "5/5 [==============================] - 1s 237ms/step - loss: 0.7454 - acc: 0.6814 - val_loss: 0.7382 - val_acc: 0.7551\n",
            "Epoch 53/200\n",
            "5/5 [==============================] - 1s 267ms/step - loss: 0.7984 - acc: 0.6298 - val_loss: 0.7478 - val_acc: 0.7347\n",
            "Epoch 54/200\n",
            "5/5 [==============================] - 1s 263ms/step - loss: 0.8855 - acc: 0.5991 - val_loss: 0.7682 - val_acc: 0.7347\n",
            "Epoch 55/200\n",
            "5/5 [==============================] - 1s 263ms/step - loss: 0.7414 - acc: 0.6782 - val_loss: 0.7415 - val_acc: 0.7551\n",
            "Epoch 56/200\n",
            "5/5 [==============================] - 1s 238ms/step - loss: 0.8407 - acc: 0.6612 - val_loss: 0.7652 - val_acc: 0.7143\n",
            "Epoch 57/200\n",
            "5/5 [==============================] - 1s 295ms/step - loss: 0.7330 - acc: 0.6418 - val_loss: 0.7533 - val_acc: 0.7551\n",
            "Epoch 58/200\n",
            "5/5 [==============================] - 2s 309ms/step - loss: 0.8056 - acc: 0.6673 - val_loss: 0.7480 - val_acc: 0.7347\n",
            "Epoch 59/200\n",
            "5/5 [==============================] - 2s 308ms/step - loss: 0.7348 - acc: 0.6764 - val_loss: 0.7305 - val_acc: 0.7755\n",
            "Epoch 60/200\n",
            "5/5 [==============================] - 1s 271ms/step - loss: 0.8618 - acc: 0.5695 - val_loss: 0.7401 - val_acc: 0.7551\n",
            "Epoch 61/200\n",
            "5/5 [==============================] - 1s 270ms/step - loss: 0.7647 - acc: 0.6736 - val_loss: 0.7464 - val_acc: 0.7551\n",
            "Epoch 62/200\n",
            "5/5 [==============================] - 1s 264ms/step - loss: 0.7666 - acc: 0.6899 - val_loss: 0.7428 - val_acc: 0.7551\n",
            "Epoch 63/200\n",
            "5/5 [==============================] - 1s 263ms/step - loss: 0.8166 - acc: 0.6136 - val_loss: 0.7247 - val_acc: 0.7551\n",
            "Epoch 64/200\n",
            "5/5 [==============================] - 1s 235ms/step - loss: 0.7884 - acc: 0.6482 - val_loss: 0.7185 - val_acc: 0.7755\n",
            "Epoch 65/200\n",
            "5/5 [==============================] - 1s 270ms/step - loss: 0.7545 - acc: 0.6944 - val_loss: 0.7194 - val_acc: 0.7755\n",
            "Epoch 66/200\n",
            "5/5 [==============================] - 1s 261ms/step - loss: 0.8146 - acc: 0.6365 - val_loss: 0.7185 - val_acc: 0.7551\n",
            "Epoch 67/200\n",
            "5/5 [==============================] - 1s 262ms/step - loss: 0.6966 - acc: 0.7065 - val_loss: 0.7070 - val_acc: 0.7755\n",
            "Epoch 68/200\n",
            "5/5 [==============================] - 1s 240ms/step - loss: 0.7573 - acc: 0.6547 - val_loss: 0.7221 - val_acc: 0.7551\n",
            "Epoch 69/200\n",
            "5/5 [==============================] - 1s 264ms/step - loss: 0.7461 - acc: 0.6591 - val_loss: 0.7221 - val_acc: 0.7347\n",
            "Epoch 70/200\n",
            "5/5 [==============================] - 1s 265ms/step - loss: 0.7332 - acc: 0.6655 - val_loss: 0.7044 - val_acc: 0.7755\n",
            "Epoch 71/200\n",
            "5/5 [==============================] - 1s 262ms/step - loss: 0.7883 - acc: 0.6280 - val_loss: 0.6994 - val_acc: 0.7347\n",
            "Epoch 72/200\n",
            "5/5 [==============================] - 1s 240ms/step - loss: 0.7831 - acc: 0.6704 - val_loss: 0.7261 - val_acc: 0.7143\n",
            "Epoch 73/200\n",
            "5/5 [==============================] - 1s 294ms/step - loss: 0.7578 - acc: 0.6298 - val_loss: 0.7332 - val_acc: 0.7551\n",
            "Epoch 74/200\n",
            "5/5 [==============================] - 2s 305ms/step - loss: 0.7970 - acc: 0.6164 - val_loss: 0.7071 - val_acc: 0.7551\n",
            "Epoch 75/200\n",
            "5/5 [==============================] - 2s 303ms/step - loss: 0.7026 - acc: 0.7036 - val_loss: 0.7066 - val_acc: 0.7347\n",
            "Epoch 76/200\n",
            "5/5 [==============================] - 1s 270ms/step - loss: 0.7738 - acc: 0.6612 - val_loss: 0.7222 - val_acc: 0.7551\n",
            "Epoch 77/200\n",
            "5/5 [==============================] - 2s 306ms/step - loss: 0.7207 - acc: 0.7019 - val_loss: 0.6927 - val_acc: 0.7755\n",
            "Epoch 78/200\n",
            "5/5 [==============================] - 2s 305ms/step - loss: 0.7405 - acc: 0.6418 - val_loss: 0.6826 - val_acc: 0.7551\n",
            "Epoch 79/200\n",
            "5/5 [==============================] - 2s 304ms/step - loss: 0.6809 - acc: 0.6782 - val_loss: 0.7105 - val_acc: 0.7755\n",
            "Epoch 80/200\n",
            "5/5 [==============================] - 1s 238ms/step - loss: 0.7646 - acc: 0.6593 - val_loss: 0.6663 - val_acc: 0.7551\n",
            "Epoch 81/200\n",
            "5/5 [==============================] - 1s 264ms/step - loss: 0.7284 - acc: 0.6556 - val_loss: 0.6865 - val_acc: 0.7551\n",
            "Epoch 82/200\n",
            "5/5 [==============================] - 1s 264ms/step - loss: 0.7199 - acc: 0.6273 - val_loss: 0.7643 - val_acc: 0.6735\n",
            "Epoch 83/200\n",
            "5/5 [==============================] - 1s 264ms/step - loss: 0.7788 - acc: 0.6528 - val_loss: 0.6969 - val_acc: 0.7347\n",
            "Epoch 84/200\n",
            "5/5 [==============================] - 1s 236ms/step - loss: 0.7252 - acc: 0.6879 - val_loss: 0.6799 - val_acc: 0.7551\n",
            "Epoch 85/200\n",
            "5/5 [==============================] - 1s 265ms/step - loss: 0.7292 - acc: 0.6673 - val_loss: 0.6930 - val_acc: 0.7755\n",
            "Epoch 86/200\n",
            "5/5 [==============================] - 1s 266ms/step - loss: 0.7291 - acc: 0.6545 - val_loss: 0.6977 - val_acc: 0.7551\n",
            "Epoch 87/200\n",
            "5/5 [==============================] - 1s 260ms/step - loss: 0.7121 - acc: 0.6754 - val_loss: 0.6747 - val_acc: 0.7551\n",
            "Epoch 88/200\n",
            "5/5 [==============================] - 1s 234ms/step - loss: 0.6954 - acc: 0.7055 - val_loss: 0.6561 - val_acc: 0.7755\n",
            "Epoch 89/200\n",
            "5/5 [==============================] - 1s 263ms/step - loss: 0.6919 - acc: 0.6690 - val_loss: 0.6563 - val_acc: 0.7755\n",
            "Epoch 90/200\n",
            "5/5 [==============================] - 1s 267ms/step - loss: 0.7160 - acc: 0.6771 - val_loss: 0.6795 - val_acc: 0.7755\n",
            "Epoch 91/200\n",
            "5/5 [==============================] - 1s 263ms/step - loss: 0.6773 - acc: 0.7383 - val_loss: 0.6584 - val_acc: 0.7551\n",
            "Epoch 92/200\n",
            "5/5 [==============================] - 1s 233ms/step - loss: 0.7177 - acc: 0.7166 - val_loss: 0.6388 - val_acc: 0.7551\n",
            "Epoch 93/200\n",
            "5/5 [==============================] - 1s 262ms/step - loss: 0.7183 - acc: 0.6789 - val_loss: 0.6667 - val_acc: 0.7755\n",
            "Epoch 94/200\n",
            "5/5 [==============================] - 1s 266ms/step - loss: 0.7725 - acc: 0.6609 - val_loss: 0.6577 - val_acc: 0.7755\n",
            "Epoch 95/200\n",
            "5/5 [==============================] - 1s 261ms/step - loss: 0.6708 - acc: 0.7181 - val_loss: 0.6403 - val_acc: 0.7551\n",
            "Epoch 96/200\n",
            "5/5 [==============================] - 1s 235ms/step - loss: 0.6965 - acc: 0.6677 - val_loss: 0.6626 - val_acc: 0.7551\n",
            "Epoch 97/200\n",
            "5/5 [==============================] - 1s 263ms/step - loss: 0.7254 - acc: 0.6309 - val_loss: 0.7031 - val_acc: 0.7347\n",
            "Epoch 98/200\n",
            "5/5 [==============================] - 1s 265ms/step - loss: 0.7331 - acc: 0.6782 - val_loss: 0.6336 - val_acc: 0.7755\n",
            "Epoch 99/200\n",
            "5/5 [==============================] - 1s 262ms/step - loss: 0.7159 - acc: 0.6817 - val_loss: 0.6324 - val_acc: 0.7959\n",
            "Epoch 100/200\n",
            "5/5 [==============================] - 1s 236ms/step - loss: 0.6451 - acc: 0.7055 - val_loss: 0.6509 - val_acc: 0.7755\n",
            "Epoch 101/200\n",
            "5/5 [==============================] - 1s 263ms/step - loss: 0.6496 - acc: 0.7164 - val_loss: 0.6410 - val_acc: 0.7755\n",
            "Epoch 102/200\n",
            "5/5 [==============================] - 1s 265ms/step - loss: 0.6734 - acc: 0.7128 - val_loss: 0.6134 - val_acc: 0.7959\n",
            "Epoch 103/200\n",
            "5/5 [==============================] - 1s 267ms/step - loss: 0.6340 - acc: 0.6909 - val_loss: 0.6301 - val_acc: 0.7755\n",
            "Epoch 104/200\n",
            "5/5 [==============================] - 1s 236ms/step - loss: 0.6915 - acc: 0.7120 - val_loss: 0.6056 - val_acc: 0.7755\n",
            "Epoch 105/200\n",
            "5/5 [==============================] - 1s 265ms/step - loss: 0.6682 - acc: 0.6736 - val_loss: 0.6154 - val_acc: 0.7755\n",
            "Epoch 106/200\n",
            "5/5 [==============================] - 1s 266ms/step - loss: 0.6364 - acc: 0.7492 - val_loss: 0.6050 - val_acc: 0.7959\n",
            "Epoch 107/200\n",
            "5/5 [==============================] - 1s 260ms/step - loss: 0.6599 - acc: 0.6990 - val_loss: 0.5868 - val_acc: 0.7755\n",
            "Epoch 108/200\n",
            "5/5 [==============================] - 1s 234ms/step - loss: 0.7162 - acc: 0.7204 - val_loss: 0.6294 - val_acc: 0.7347\n",
            "Epoch 109/200\n",
            "5/5 [==============================] - 1s 264ms/step - loss: 0.6389 - acc: 0.6644 - val_loss: 0.6802 - val_acc: 0.7347\n",
            "Epoch 110/200\n",
            "5/5 [==============================] - 1s 264ms/step - loss: 0.7162 - acc: 0.6408 - val_loss: 0.5995 - val_acc: 0.7551\n",
            "Epoch 111/200\n",
            "5/5 [==============================] - 1s 260ms/step - loss: 0.6003 - acc: 0.7655 - val_loss: 0.6050 - val_acc: 0.7755\n",
            "Epoch 112/200\n",
            "5/5 [==============================] - 1s 237ms/step - loss: 0.6987 - acc: 0.6944 - val_loss: 0.6179 - val_acc: 0.7143\n",
            "Epoch 113/200\n",
            "5/5 [==============================] - 1s 269ms/step - loss: 0.6338 - acc: 0.7273 - val_loss: 0.5644 - val_acc: 0.7755\n",
            "Epoch 114/200\n",
            "5/5 [==============================] - 1s 263ms/step - loss: 0.6438 - acc: 0.7354 - val_loss: 0.6092 - val_acc: 0.7551\n",
            "Epoch 115/200\n",
            "5/5 [==============================] - 1s 264ms/step - loss: 0.6280 - acc: 0.7619 - val_loss: 0.5561 - val_acc: 0.7755\n",
            "Epoch 116/200\n",
            "5/5 [==============================] - 1s 235ms/step - loss: 0.6508 - acc: 0.7158 - val_loss: 0.5627 - val_acc: 0.7959\n",
            "Epoch 117/200\n",
            "5/5 [==============================] - 1s 268ms/step - loss: 0.6781 - acc: 0.6627 - val_loss: 0.5936 - val_acc: 0.7551\n",
            "Epoch 118/200\n",
            "5/5 [==============================] - 1s 264ms/step - loss: 0.6434 - acc: 0.6708 - val_loss: 0.5875 - val_acc: 0.7551\n",
            "Epoch 119/200\n",
            "5/5 [==============================] - 1s 262ms/step - loss: 0.6785 - acc: 0.6754 - val_loss: 0.5616 - val_acc: 0.7959\n",
            "Epoch 120/200\n",
            "5/5 [==============================] - 1s 235ms/step - loss: 0.5870 - acc: 0.7750 - val_loss: 0.5659 - val_acc: 0.7959\n",
            "Epoch 121/200\n",
            "5/5 [==============================] - 1s 264ms/step - loss: 0.6468 - acc: 0.6673 - val_loss: 0.5304 - val_acc: 0.7959\n",
            "Epoch 122/200\n",
            "5/5 [==============================] - 1s 266ms/step - loss: 0.5653 - acc: 0.7619 - val_loss: 0.5070 - val_acc: 0.8163\n",
            "Epoch 123/200\n",
            "5/5 [==============================] - 1s 262ms/step - loss: 0.5691 - acc: 0.7655 - val_loss: 0.4878 - val_acc: 0.8367\n",
            "Epoch 124/200\n",
            "5/5 [==============================] - 1s 238ms/step - loss: 0.6582 - acc: 0.7112 - val_loss: 0.4897 - val_acc: 0.8163\n",
            "Epoch 125/200\n",
            "5/5 [==============================] - 1s 266ms/step - loss: 0.6017 - acc: 0.7573 - val_loss: 0.4672 - val_acc: 0.8571\n",
            "Epoch 126/200\n",
            "5/5 [==============================] - 1s 267ms/step - loss: 0.6215 - acc: 0.7400 - val_loss: 0.4702 - val_acc: 0.8367\n",
            "Epoch 127/200\n",
            "5/5 [==============================] - 1s 271ms/step - loss: 0.5985 - acc: 0.7418 - val_loss: 0.4864 - val_acc: 0.8163\n",
            "Epoch 128/200\n",
            "5/5 [==============================] - 1s 236ms/step - loss: 0.5880 - acc: 0.7074 - val_loss: 0.4802 - val_acc: 0.8367\n",
            "Epoch 129/200\n",
            "5/5 [==============================] - 1s 264ms/step - loss: 0.6427 - acc: 0.7400 - val_loss: 0.5207 - val_acc: 0.8367\n",
            "Epoch 130/200\n",
            "5/5 [==============================] - 1s 264ms/step - loss: 0.6615 - acc: 0.7118 - val_loss: 0.5049 - val_acc: 0.8163\n",
            "Epoch 131/200\n",
            "5/5 [==============================] - 1s 263ms/step - loss: 0.5738 - acc: 0.7475 - val_loss: 0.5047 - val_acc: 0.8367\n",
            "Epoch 132/200\n",
            "5/5 [==============================] - 1s 236ms/step - loss: 0.6369 - acc: 0.7342 - val_loss: 0.5293 - val_acc: 0.8367\n",
            "Epoch 133/200\n",
            "5/5 [==============================] - 1s 265ms/step - loss: 0.5562 - acc: 0.7799 - val_loss: 0.4943 - val_acc: 0.7755\n",
            "Epoch 134/200\n",
            "5/5 [==============================] - 1s 286ms/step - loss: 0.6077 - acc: 0.7383 - val_loss: 0.5038 - val_acc: 0.8571\n",
            "Epoch 135/200\n",
            "5/5 [==============================] - 2s 304ms/step - loss: 0.5720 - acc: 0.7573 - val_loss: 0.4837 - val_acc: 0.8163\n",
            "Epoch 136/200\n",
            "5/5 [==============================] - 1s 275ms/step - loss: 0.5915 - acc: 0.7453 - val_loss: 0.4755 - val_acc: 0.8163\n",
            "Epoch 137/200\n",
            "5/5 [==============================] - 2s 306ms/step - loss: 0.5758 - acc: 0.7718 - val_loss: 0.4767 - val_acc: 0.8571\n",
            "Epoch 138/200\n",
            "5/5 [==============================] - 2s 305ms/step - loss: 0.5679 - acc: 0.7580 - val_loss: 0.4476 - val_acc: 0.8367\n",
            "Epoch 139/200\n",
            "5/5 [==============================] - 2s 304ms/step - loss: 0.6208 - acc: 0.6927 - val_loss: 0.4425 - val_acc: 0.8367\n",
            "Epoch 140/200\n",
            "5/5 [==============================] - 1s 271ms/step - loss: 0.5211 - acc: 0.7796 - val_loss: 0.4478 - val_acc: 0.8163\n",
            "Epoch 141/200\n",
            "5/5 [==============================] - 1s 275ms/step - loss: 0.5674 - acc: 0.7510 - val_loss: 0.4227 - val_acc: 0.8571\n",
            "Epoch 142/200\n",
            "5/5 [==============================] - 1s 261ms/step - loss: 0.5787 - acc: 0.7446 - val_loss: 0.4194 - val_acc: 0.8367\n",
            "Epoch 143/200\n",
            "5/5 [==============================] - 1s 264ms/step - loss: 0.5369 - acc: 0.7273 - val_loss: 0.4161 - val_acc: 0.8571\n",
            "Epoch 144/200\n",
            "5/5 [==============================] - 1s 234ms/step - loss: 0.5735 - acc: 0.7464 - val_loss: 0.4355 - val_acc: 0.8367\n",
            "Epoch 145/200\n",
            "5/5 [==============================] - 1s 267ms/step - loss: 0.5599 - acc: 0.7273 - val_loss: 0.4238 - val_acc: 0.7959\n",
            "Epoch 146/200\n",
            "5/5 [==============================] - 1s 262ms/step - loss: 0.5160 - acc: 0.7863 - val_loss: 0.4251 - val_acc: 0.8163\n",
            "Epoch 147/200\n",
            "5/5 [==============================] - 1s 263ms/step - loss: 0.5187 - acc: 0.7619 - val_loss: 0.4423 - val_acc: 0.7959\n",
            "Epoch 148/200\n",
            "5/5 [==============================] - 1s 238ms/step - loss: 0.5789 - acc: 0.7066 - val_loss: 0.4508 - val_acc: 0.8163\n",
            "Epoch 149/200\n",
            "5/5 [==============================] - 1s 270ms/step - loss: 0.5377 - acc: 0.7637 - val_loss: 0.4411 - val_acc: 0.8367\n",
            "Epoch 150/200\n",
            "5/5 [==============================] - 1s 272ms/step - loss: 0.6140 - acc: 0.7135 - val_loss: 0.5058 - val_acc: 0.8163\n",
            "Epoch 151/200\n",
            "5/5 [==============================] - 1s 264ms/step - loss: 0.5536 - acc: 0.7845 - val_loss: 0.4260 - val_acc: 0.8367\n",
            "Epoch 152/200\n",
            "5/5 [==============================] - 1s 239ms/step - loss: 0.5021 - acc: 0.7601 - val_loss: 0.4200 - val_acc: 0.8163\n",
            "Epoch 153/200\n",
            "5/5 [==============================] - 1s 264ms/step - loss: 0.5377 - acc: 0.7372 - val_loss: 0.4709 - val_acc: 0.8163\n",
            "Epoch 154/200\n",
            "5/5 [==============================] - 1s 262ms/step - loss: 0.5095 - acc: 0.8255 - val_loss: 0.4216 - val_acc: 0.8571\n",
            "Epoch 155/200\n",
            "5/5 [==============================] - 1s 263ms/step - loss: 0.5455 - acc: 0.7591 - val_loss: 0.3927 - val_acc: 0.8163\n",
            "Epoch 156/200\n",
            "5/5 [==============================] - 1s 236ms/step - loss: 0.5617 - acc: 0.7509 - val_loss: 0.3835 - val_acc: 0.8163\n",
            "Epoch 157/200\n",
            "5/5 [==============================] - 1s 265ms/step - loss: 0.4918 - acc: 0.7891 - val_loss: 0.3830 - val_acc: 0.8571\n",
            "Epoch 158/200\n",
            "5/5 [==============================] - 1s 264ms/step - loss: 0.4652 - acc: 0.8446 - val_loss: 0.3710 - val_acc: 0.8367\n",
            "Epoch 159/200\n",
            "5/5 [==============================] - 1s 268ms/step - loss: 0.4676 - acc: 0.7365 - val_loss: 0.4565 - val_acc: 0.8163\n",
            "Epoch 160/200\n",
            "5/5 [==============================] - 1s 235ms/step - loss: 0.4422 - acc: 0.8304 - val_loss: 0.3577 - val_acc: 0.8367\n",
            "Epoch 161/200\n",
            "5/5 [==============================] - 1s 264ms/step - loss: 0.4446 - acc: 0.7655 - val_loss: 0.3660 - val_acc: 0.8163\n",
            "Epoch 162/200\n",
            "5/5 [==============================] - 1s 262ms/step - loss: 0.4947 - acc: 0.7926 - val_loss: 0.3675 - val_acc: 0.8163\n",
            "Epoch 163/200\n",
            "5/5 [==============================] - 1s 263ms/step - loss: 0.4939 - acc: 0.7700 - val_loss: 0.3653 - val_acc: 0.8163\n",
            "Epoch 164/200\n",
            "5/5 [==============================] - 1s 235ms/step - loss: 0.4953 - acc: 0.7426 - val_loss: 0.4310 - val_acc: 0.7959\n",
            "Epoch 165/200\n",
            "5/5 [==============================] - 1s 264ms/step - loss: 0.4827 - acc: 0.7637 - val_loss: 0.3501 - val_acc: 0.8163\n",
            "Epoch 166/200\n",
            "5/5 [==============================] - 1s 262ms/step - loss: 0.5357 - acc: 0.7926 - val_loss: 0.3628 - val_acc: 0.8367\n",
            "Epoch 167/200\n",
            "5/5 [==============================] - 1s 268ms/step - loss: 0.4708 - acc: 0.8036 - val_loss: 0.4315 - val_acc: 0.8571\n",
            "Epoch 168/200\n",
            "5/5 [==============================] - 1s 233ms/step - loss: 0.5003 - acc: 0.8018 - val_loss: 0.3541 - val_acc: 0.8367\n",
            "Epoch 169/200\n",
            "5/5 [==============================] - 1s 265ms/step - loss: 0.4599 - acc: 0.7845 - val_loss: 0.3761 - val_acc: 0.8367\n",
            "Epoch 170/200\n",
            "5/5 [==============================] - 1s 263ms/step - loss: 0.4867 - acc: 0.7828 - val_loss: 0.3418 - val_acc: 0.8571\n",
            "Epoch 171/200\n",
            "5/5 [==============================] - 1s 264ms/step - loss: 0.5324 - acc: 0.7591 - val_loss: 0.3533 - val_acc: 0.8367\n",
            "Epoch 172/200\n",
            "5/5 [==============================] - 1s 233ms/step - loss: 0.4274 - acc: 0.8056 - val_loss: 0.3817 - val_acc: 0.8776\n",
            "Epoch 173/200\n",
            "5/5 [==============================] - 1s 267ms/step - loss: 0.4783 - acc: 0.7990 - val_loss: 0.3795 - val_acc: 0.8776\n",
            "Epoch 174/200\n",
            "5/5 [==============================] - 1s 267ms/step - loss: 0.5195 - acc: 0.7245 - val_loss: 0.4219 - val_acc: 0.8367\n",
            "Epoch 175/200\n",
            "5/5 [==============================] - 1s 267ms/step - loss: 0.5156 - acc: 0.7400 - val_loss: 0.3619 - val_acc: 0.8367\n",
            "Epoch 176/200\n",
            "5/5 [==============================] - 1s 232ms/step - loss: 0.4251 - acc: 0.8258 - val_loss: 0.3465 - val_acc: 0.8367\n",
            "Epoch 177/200\n",
            "5/5 [==============================] - 1s 263ms/step - loss: 0.4277 - acc: 0.7810 - val_loss: 0.3291 - val_acc: 0.8367\n",
            "Epoch 178/200\n",
            "5/5 [==============================] - 1s 263ms/step - loss: 0.5461 - acc: 0.7418 - val_loss: 0.3982 - val_acc: 0.7959\n",
            "Epoch 179/200\n",
            "5/5 [==============================] - 1s 264ms/step - loss: 0.5551 - acc: 0.7418 - val_loss: 0.3709 - val_acc: 0.8571\n",
            "Epoch 180/200\n",
            "5/5 [==============================] - 1s 234ms/step - loss: 0.4544 - acc: 0.8102 - val_loss: 0.3459 - val_acc: 0.8367\n",
            "Epoch 181/200\n",
            "5/5 [==============================] - 1s 262ms/step - loss: 0.4808 - acc: 0.8255 - val_loss: 0.3464 - val_acc: 0.8571\n",
            "Epoch 182/200\n",
            "5/5 [==============================] - 1s 263ms/step - loss: 0.4607 - acc: 0.7538 - val_loss: 0.3280 - val_acc: 0.8367\n",
            "Epoch 183/200\n",
            "5/5 [==============================] - 1s 267ms/step - loss: 0.3700 - acc: 0.8682 - val_loss: 0.3290 - val_acc: 0.8571\n",
            "Epoch 184/200\n",
            "5/5 [==============================] - 1s 234ms/step - loss: 0.4130 - acc: 0.7926 - val_loss: 0.3203 - val_acc: 0.9184\n",
            "Epoch 185/200\n",
            "5/5 [==============================] - 1s 266ms/step - loss: 0.5347 - acc: 0.7146 - val_loss: 0.3375 - val_acc: 0.8367\n",
            "Epoch 186/200\n",
            "5/5 [==============================] - 1s 265ms/step - loss: 0.4460 - acc: 0.8018 - val_loss: 0.3217 - val_acc: 0.8776\n",
            "Epoch 187/200\n",
            "5/5 [==============================] - 1s 267ms/step - loss: 0.4518 - acc: 0.7655 - val_loss: 0.3630 - val_acc: 0.8367\n",
            "Epoch 188/200\n",
            "5/5 [==============================] - 1s 232ms/step - loss: 0.4397 - acc: 0.8250 - val_loss: 0.3114 - val_acc: 0.8571\n",
            "Epoch 189/200\n",
            "5/5 [==============================] - 1s 263ms/step - loss: 0.4965 - acc: 0.7464 - val_loss: 0.3085 - val_acc: 0.8571\n",
            "Epoch 190/200\n",
            "5/5 [==============================] - 1s 261ms/step - loss: 0.4042 - acc: 0.8417 - val_loss: 0.3215 - val_acc: 0.7755\n",
            "Epoch 191/200\n",
            "5/5 [==============================] - 1s 266ms/step - loss: 0.4009 - acc: 0.8301 - val_loss: 0.3072 - val_acc: 0.8367\n",
            "Epoch 192/200\n",
            "5/5 [==============================] - 1s 233ms/step - loss: 0.4195 - acc: 0.7834 - val_loss: 0.2992 - val_acc: 0.8367\n",
            "Epoch 193/200\n",
            "5/5 [==============================] - 1s 265ms/step - loss: 0.4532 - acc: 0.8082 - val_loss: 0.3076 - val_acc: 0.8163\n",
            "Epoch 194/200\n",
            "5/5 [==============================] - 1s 262ms/step - loss: 0.4019 - acc: 0.8128 - val_loss: 0.3470 - val_acc: 0.8163\n",
            "Epoch 195/200\n",
            "5/5 [==============================] - 1s 276ms/step - loss: 0.5055 - acc: 0.7453 - val_loss: 0.3487 - val_acc: 0.7959\n",
            "Epoch 196/200\n",
            "5/5 [==============================] - 1s 276ms/step - loss: 0.4931 - acc: 0.7796 - val_loss: 0.3245 - val_acc: 0.8571\n",
            "Epoch 197/200\n",
            "5/5 [==============================] - 2s 312ms/step - loss: 0.4563 - acc: 0.7764 - val_loss: 0.3910 - val_acc: 0.7551\n",
            "Epoch 198/200\n",
            "5/5 [==============================] - 2s 312ms/step - loss: 0.4001 - acc: 0.8382 - val_loss: 0.3211 - val_acc: 0.8571\n",
            "Epoch 199/200\n",
            "5/5 [==============================] - 2s 311ms/step - loss: 0.3989 - acc: 0.8244 - val_loss: 0.3259 - val_acc: 0.8571\n",
            "Epoch 200/200\n",
            "5/5 [==============================] - 1s 278ms/step - loss: 0.4476 - acc: 0.7796 - val_loss: 0.3010 - val_acc: 0.8367\n"
          ],
          "name": "stdout"
        }
      ]
    },
    {
      "cell_type": "markdown",
      "metadata": {
        "id": "e-eA-kg0viaw",
        "colab_type": "text"
      },
      "source": [
        "# Matrice de confusion -Cnn"
      ]
    },
    {
      "cell_type": "code",
      "metadata": {
        "colab_type": "code",
        "outputId": "e44f0e88-05a6-410c-b944-3ad79405ab6e",
        "id": "KfyCW_C2im0T",
        "colab": {
          "base_uri": "https://localhost:8080/",
          "height": 69
        }
      },
      "source": [
        "predictions = model.predict(X)\n",
        "y_pred = (predictions > 0.5)\n",
        "from sklearn.metrics import confusion_matrix\n",
        "matrix =confusion_matrix(y, y_pred.argmax(axis=1))/1.\n",
        "matrix[0,]=matrix[0,]/np.sum(matrix[0,])\n",
        "matrix[1,]=matrix[1,]/np.sum(matrix[1,])\n",
        "matrix[2,]=matrix[2,]/np.sum(matrix[2,])\n",
        "matrix"
      ],
      "execution_count": 0,
      "outputs": [
        {
          "output_type": "execute_result",
          "data": {
            "text/plain": [
              "array([[0.94, 0.06, 0.  ],\n",
              "       [0.8 , 0.2 , 0.  ],\n",
              "       [0.53, 0.  , 0.47]])"
            ]
          },
          "metadata": {
            "tags": []
          },
          "execution_count": 227
        }
      ]
    },
    {
      "cell_type": "markdown",
      "metadata": {
        "id": "Cm8oU0CevrGq",
        "colab_type": "text"
      },
      "source": [
        "# Courbe Roc-Cnn"
      ]
    },
    {
      "cell_type": "code",
      "metadata": {
        "id": "I0FOyHtdTF_d",
        "colab_type": "code",
        "outputId": "7930e1d1-dfae-42ed-8dd3-d78e2528835d",
        "colab": {
          "base_uri": "https://localhost:8080/",
          "height": 346
        }
      },
      "source": [
        "import scikitplot as skplt\n",
        "import matplotlib.pyplot as plt\n",
        "skplt.metrics.plot_roc_curve(y, predictions)\n",
        "\n",
        "plt.savefig('Roc2.png')\n",
        "plt.show()\n",
        "\n"
      ],
      "execution_count": 0,
      "outputs": [
        {
          "output_type": "stream",
          "text": [
            "/usr/local/lib/python3.6/dist-packages/sklearn/utils/deprecation.py:77: DeprecationWarning: Function plot_roc_curve is deprecated; This will be removed in v0.5.0. Please use scikitplot.metrics.plot_roc instead.\n",
            "  warnings.warn(msg, category=DeprecationWarning)\n"
          ],
          "name": "stderr"
        },
        {
          "output_type": "display_data",
          "data": {
            "image/png": "[encoded data removed]",
            "text/plain": [
              "<Figure size 432x288 with 1 Axes>"
            ]
          },
          "metadata": {
            "tags": []
          }
        }
      ]
    },
    {
      "cell_type": "markdown",
      "metadata": {
        "id": "Wkh0ewowv_ny",
        "colab_type": "text"
      },
      "source": [
        "# Visualisation du Tensorboard"
      ]
    },
    {
      "cell_type": "code",
      "metadata": {
        "id": "rzqPJdGyPkor",
        "colab_type": "code",
        "outputId": "419ed6cd-a57e-41ef-b273-a5605164d8ae",
        "colab": {
          "base_uri": "https://localhost:8080/",
          "height": 243
        }
      },
      "source": [
        "!wget https://bin.equinox.io/c/4VmDzA7iaHb/ngrok-stable-linux-amd64.zip\n",
        "!unzip ngrok-stable-linux-amd64.zip"
      ],
      "execution_count": 0,
      "outputs": [
        {
          "output_type": "stream",
          "text": [
            "--2019-05-03 15:16:49--  https://bin.equinox.io/c/4VmDzA7iaHb/ngrok-stable-linux-amd64.zip\n",
            "Resolving bin.equinox.io (bin.equinox.io)... 34.206.130.40, 52.22.145.207, 52.201.75.180, ...\n",
            "Connecting to bin.equinox.io (bin.equinox.io)|34.206.130.40|:443... connected.\n",
            "HTTP request sent, awaiting response... 200 OK\n",
            "Length: 14991793 (14M) [application/octet-stream]\n",
            "Saving to: ‘ngrok-stable-linux-amd64.zip’\n",
            "\n",
            "\r          ngrok-sta   0%[                    ]       0  --.-KB/s               \r         ngrok-stab   0%[                    ] 130.50K   652KB/s               \r        ngrok-stabl   7%[>                   ]   1.13M  2.82MB/s               \r       ngrok-stable  49%[========>           ]   7.10M  11.8MB/s               \rngrok-stable-linux- 100%[===================>]  14.30M  18.5MB/s    in 0.8s    \n",
            "\n",
            "2019-05-03 15:16:50 (18.5 MB/s) - ‘ngrok-stable-linux-amd64.zip’ saved [14991793/14991793]\n",
            "\n",
            "Archive:  ngrok-stable-linux-amd64.zip\n",
            "  inflating: ngrok                   \n"
          ],
          "name": "stdout"
        }
      ]
    },
    {
      "cell_type": "code",
      "metadata": {
        "id": "wk4Qv2A1QTdH",
        "colab_type": "code",
        "colab": {}
      },
      "source": [
        "LOG_DIR = 'logs/'\n",
        "get_ipython().system_raw(\n",
        "    'tensorboard --logdir {} --host 0.0.0.0 --port 6005 &'\n",
        "    .format(LOG_DIR)\n",
        ")"
      ],
      "execution_count": 0,
      "outputs": []
    },
    {
      "cell_type": "code",
      "metadata": {
        "id": "sYveNVHZQTud",
        "colab_type": "code",
        "colab": {}
      },
      "source": [
        "get_ipython().system_raw('./ngrok http 6005 &')"
      ],
      "execution_count": 0,
      "outputs": []
    },
    {
      "cell_type": "code",
      "metadata": {
        "id": "TMujOlHzQT0G",
        "colab_type": "code",
        "outputId": "7bb4374b-3ef2-42f3-f192-ffca373fcc77",
        "colab": {
          "base_uri": "https://localhost:8080/",
          "height": 34
        }
      },
      "source": [
        "! curl -s http://localhost:4040/api/tunnels | python3 -c \\\n",
        "    \"import sys, json; print(json.load(sys.stdin)['tunnels'][0]['public_url'])\""
      ],
      "execution_count": 0,
      "outputs": [
        {
          "output_type": "stream",
          "text": [
            "https://c424870c.ngrok.io\n"
          ],
          "name": "stdout"
        }
      ]
    },
    {
      "cell_type": "code",
      "metadata": {
        "id": "wP95v4HtQT2q",
        "colab_type": "code",
        "colab": {}
      },
      "source": [
        ""
      ],
      "execution_count": 0,
      "outputs": []
    }
  ]
}