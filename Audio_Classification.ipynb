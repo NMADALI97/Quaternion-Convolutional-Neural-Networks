{
  "nbformat": 4,
  "nbformat_minor": 0,
  "metadata": {
    "colab": {
      "name": "Audio Classification.ipynb",
      "provenance": [],
      "collapsed_sections": []
    },
    "kernelspec": {
      "name": "python3",
      "display_name": "Python 3"
    },
    "accelerator": "GPU"
  },
  "cells": [
    {
      "cell_type": "code",
      "metadata": {
        "id": "bVAmYytXYk3l",
        "colab_type": "code",
        "colab": {
          "base_uri": "https://localhost:8080/",
          "height": 81
        },
        "outputId": "e81d3fc5-529e-4e0d-ff19-4df2803bbc16"
      },
      "source": [
        "import numpy                 as np\n",
        "\n",
        "import keras                        \n",
        "from   keras.optimizers      import Adam\n",
        "from   models.example_model  import *\n",
        "from   sklearn.preprocessing import normalize\n",
        "import sys\n",
        "import argparse              as Ap"
      ],
      "execution_count": 8,
      "outputs": [
        {
          "output_type": "stream",
          "text": [
            "Using TensorFlow backend.\n"
          ],
          "name": "stderr"
        },
        {
          "output_type": "display_data",
          "data": {
            "text/html": [
              "<p style=\"color: red;\">\n",
              "The default version of TensorFlow in Colab will soon switch to TensorFlow 2.x.<br>\n",
              "We recommend you <a href=\"https://www.tensorflow.org/guide/migrate\" target=\"_blank\">upgrade</a> now \n",
              "or ensure your notebook will continue to use TensorFlow 1.x via the <code>%tensorflow_version 1.x</code> magic:\n",
              "<a href=\"https://colab.research.google.com/notebooks/tensorflow_version.ipynb\" target=\"_blank\">more info</a>.</p>\n"
            ],
            "text/plain": [
              "<IPython.core.display.HTML object>"
            ]
          },
          "metadata": {
            "tags": []
          }
        }
      ]
    },
    {
      "cell_type": "code",
      "metadata": {
        "id": "e2C0fAJ_Ytkm",
        "colab_type": "code",
        "colab": {}
      },
      "source": [
        "def dataPrepDecodaQuaternion(filename, isquat=True):\n",
        "\n",
        "    nbTopics         = 250\n",
        "    quaternionFactor = 4\n",
        "    realChannel      = 3\n",
        "    nbClasses        = 8\n",
        "    raw              = open(filename, 'r').readlines()\n",
        "\n",
        "    if(isquat):\n",
        "        x            = np.ndarray(shape=(len(raw), nbTopics, quaternionFactor))\n",
        "    else:\n",
        "        x            = np.ndarray(shape=(len(raw), nbTopics, realChannel))\n",
        "    y                = np.ndarray(shape=(len(raw), nbClasses))\n",
        "    elementCpt       = 0\n",
        "    documentCpt      = 0\n",
        "\n",
        "    for doc in raw:\n",
        "        elements   = doc.split('\\t')[0].split(\" \")\n",
        "        nbElements = len(elements)\n",
        "\n",
        "        # DATA\n",
        "        for element in elements:\n",
        "            components                                = element.split(',')\n",
        "\n",
        "            if(isquat):\n",
        "                x[documentCpt][elementCpt][0]   = components[0]\n",
        "                x[documentCpt][elementCpt][1]   = components[1]\n",
        "                x[documentCpt][elementCpt][2]   = components[2]\n",
        "                x[documentCpt][elementCpt][3]   = components[3]\n",
        "            else:\n",
        "                x[documentCpt][elementCpt][0]   = components[1]\n",
        "                x[documentCpt][elementCpt][1]   = components[2]\n",
        "                x[documentCpt][elementCpt][2]   = components[3]\n",
        "\n",
        "            elementCpt += 1\n",
        "        elementCpt   = 0\n",
        "\n",
        "        # LABELS\n",
        "        labels   = doc.split('\\t')[1].split(\" \")\n",
        "        labelCpt = 0\n",
        "        for label in labels:\n",
        "            values                   = label.split(',')\n",
        "            y[documentCpt][labelCpt] = values[0]\n",
        "            labelCpt                += 1\n",
        "        labelCpt = 0\n",
        "        documentCpt += 1\n",
        "    \n",
        "    return x,y\n",
        "\n",
        "\n",
        "\n"
      ],
      "execution_count": 0,
      "outputs": []
    },
    {
      "cell_type": "code",
      "metadata": {
        "id": "p7TDmJwqZNsK",
        "colab_type": "code",
        "colab": {}
      },
      "source": [
        "x_train, y_train = dataPrepDecodaQuaternion('decoda/250_TRAIN_Q.data',isquat=True)\n",
        "x_dev,   y_dev   = dataPrepDecodaQuaternion('decoda/250_DEV_Q.data',  isquat=True)\n",
        "x_test,  y_test  = dataPrepDecodaQuaternion('decoda/250_TEST_Q.data', isquat=True)"
      ],
      "execution_count": 0,
      "outputs": []
    },
    {
      "cell_type": "code",
      "metadata": {
        "id": "dakBLx-PZXWY",
        "colab_type": "code",
        "colab": {
          "base_uri": "https://localhost:8080/",
          "height": 121
        },
        "outputId": "c75f407e-03de-43e5-a84c-b8dc54c094ed"
      },
      "source": [
        "print('Train size : '+str(x_train.shape[0]))\n",
        "print('Dev size   : '+str(x_dev.shape[0]))\n",
        "print('Test size  : '+str(x_test.shape[0]))\n",
        "\n",
        "print('Parameters    -------------------------------')\n",
        "opt = Adam(lr = 0.0005)\n",
        "print('learning rate   : '+str(0.0005))\n",
        "print('Model type      : '+\"QCNN\")"
      ],
      "execution_count": 11,
      "outputs": [
        {
          "output_type": "stream",
          "text": [
            "Train size : 739\n",
            "Dev size   : 174\n",
            "Test size  : 325\n",
            "Parameters    -------------------------------\n",
            "learning rate   : 0.0005\n",
            "Model type      : QCNN\n"
          ],
          "name": "stdout"
        }
      ]
    },
    {
      "cell_type": "code",
      "metadata": {
        "id": "WM3giS8nZ9Mj",
        "colab_type": "code",
        "colab": {}
      },
      "source": [
        "from   complexnn                             import *\n",
        "import keras\n",
        "from   keras.layers                          import *\n",
        "from   keras.models                          import Model\n",
        "import keras.backend                         as     K\n",
        "import numpy                                 as     np\n",
        "\n",
        "\n",
        "\n",
        "input_seq = Input((250,4))\n",
        "        \n",
        "\n",
        "conv    = QuaternionConv1D(32, 3, strides=1, activation='relu', padding=\"same\")(input_seq)\n",
        "pool    = AveragePooling1D(2, padding='same')(conv)\n",
        "conv2   = QuaternionConv1D(64, 3, strides=1, activation='relu', padding=\"same\")(pool)\n",
        "pool2   = AveragePooling1D(4, padding='same')(conv2)\n",
        "\n",
        "        \n",
        "flat    = Flatten()(pool2)\n",
        "dense  = QuaternionDense(256, activation='relu')(flat)\n",
        "output = Dense(8, activation='softmax')(dense)    \n",
        "classifier=Model(input_seq, output)\n",
        "\n"
      ],
      "execution_count": 0,
      "outputs": []
    },
    {
      "cell_type": "code",
      "metadata": {
        "id": "Fbb99xfQZnzX",
        "colab_type": "code",
        "colab": {
          "base_uri": "https://localhost:8080/",
          "height": 486
        },
        "outputId": "8c121e2e-86c8-4b18-f0f6-104f86caca4e"
      },
      "source": [
        "print(' ')\n",
        "print('Model Summary ----------------------------')\n",
        "print(classifier.summary())\n"
      ],
      "execution_count": 15,
      "outputs": [
        {
          "output_type": "stream",
          "text": [
            " \n",
            "Model Summary ----------------------------\n",
            "Model: \"model_1\"\n",
            "_________________________________________________________________\n",
            "Layer (type)                 Output Shape              Param #   \n",
            "=================================================================\n",
            "input_1 (InputLayer)         (None, 250, 4)            0         \n",
            "_________________________________________________________________\n",
            "quaternion_conv1d_1 (Quatern (None, 250, 128)          512       \n",
            "_________________________________________________________________\n",
            "average_pooling1d_1 (Average (None, 125, 128)          0         \n",
            "_________________________________________________________________\n",
            "quaternion_conv1d_2 (Quatern (None, 125, 256)          24832     \n",
            "_________________________________________________________________\n",
            "average_pooling1d_2 (Average (None, 32, 256)           0         \n",
            "_________________________________________________________________\n",
            "flatten_1 (Flatten)          (None, 8192)              0         \n",
            "_________________________________________________________________\n",
            "quaternion_dense_1 (Quaterni (None, 256)               524544    \n",
            "_________________________________________________________________\n",
            "dense_1 (Dense)              (None, 8)                 2056      \n",
            "=================================================================\n",
            "Total params: 551,944\n",
            "Trainable params: 551,944\n",
            "Non-trainable params: 0\n",
            "_________________________________________________________________\n",
            "None\n"
          ],
          "name": "stdout"
        }
      ]
    },
    {
      "cell_type": "code",
      "metadata": {
        "id": "qHvLcskgaVb_",
        "colab_type": "code",
        "colab": {
          "base_uri": "https://localhost:8080/",
          "height": 992
        },
        "outputId": "48c14d52-fd33-4a48-954b-dc317922fc74"
      },
      "source": [
        "classifier.compile(optimizer=opt, loss='categorical_crossentropy', metrics=['accuracy'])\n",
        "classifier.fit(x_train, y_train,\n",
        "                validation_data=(x_dev,y_dev),\n",
        "                epochs=15,\n",
        "                batch_size=3)\n"
      ],
      "execution_count": 16,
      "outputs": [
        {
          "output_type": "stream",
          "text": [
            "WARNING:tensorflow:From /usr/local/lib/python3.6/dist-packages/keras/optimizers.py:793: The name tf.train.Optimizer is deprecated. Please use tf.compat.v1.train.Optimizer instead.\n",
            "\n",
            "WARNING:tensorflow:From /usr/local/lib/python3.6/dist-packages/keras/backend/tensorflow_backend.py:3576: The name tf.log is deprecated. Please use tf.math.log instead.\n",
            "\n",
            "WARNING:tensorflow:From /usr/local/lib/python3.6/dist-packages/tensorflow_core/python/ops/math_grad.py:1424: where (from tensorflow.python.ops.array_ops) is deprecated and will be removed in a future version.\n",
            "Instructions for updating:\n",
            "Use tf.where in 2.0, which has the same broadcast rule as np.where\n",
            "WARNING:tensorflow:From /usr/local/lib/python3.6/dist-packages/keras/backend/tensorflow_backend.py:1033: The name tf.assign_add is deprecated. Please use tf.compat.v1.assign_add instead.\n",
            "\n",
            "WARNING:tensorflow:From /usr/local/lib/python3.6/dist-packages/keras/backend/tensorflow_backend.py:1020: The name tf.assign is deprecated. Please use tf.compat.v1.assign instead.\n",
            "\n",
            "WARNING:tensorflow:From /usr/local/lib/python3.6/dist-packages/keras/backend/tensorflow_backend.py:3005: The name tf.Session is deprecated. Please use tf.compat.v1.Session instead.\n",
            "\n",
            "Train on 739 samples, validate on 174 samples\n",
            "Epoch 1/15\n",
            "WARNING:tensorflow:From /usr/local/lib/python3.6/dist-packages/keras/backend/tensorflow_backend.py:190: The name tf.get_default_session is deprecated. Please use tf.compat.v1.get_default_session instead.\n",
            "\n",
            "WARNING:tensorflow:From /usr/local/lib/python3.6/dist-packages/keras/backend/tensorflow_backend.py:197: The name tf.ConfigProto is deprecated. Please use tf.compat.v1.ConfigProto instead.\n",
            "\n",
            "WARNING:tensorflow:From /usr/local/lib/python3.6/dist-packages/keras/backend/tensorflow_backend.py:207: The name tf.global_variables is deprecated. Please use tf.compat.v1.global_variables instead.\n",
            "\n",
            "WARNING:tensorflow:From /usr/local/lib/python3.6/dist-packages/keras/backend/tensorflow_backend.py:216: The name tf.is_variable_initialized is deprecated. Please use tf.compat.v1.is_variable_initialized instead.\n",
            "\n",
            "WARNING:tensorflow:From /usr/local/lib/python3.6/dist-packages/keras/backend/tensorflow_backend.py:223: The name tf.variables_initializer is deprecated. Please use tf.compat.v1.variables_initializer instead.\n",
            "\n",
            "739/739 [==============================] - 16s 21ms/step - loss: 1.0238 - acc: 0.6820 - val_loss: 0.6832 - val_acc: 0.7931\n",
            "Epoch 2/15\n",
            "739/739 [==============================] - 1s 2ms/step - loss: 0.5185 - acc: 0.8430 - val_loss: 0.6034 - val_acc: 0.7759\n",
            "Epoch 3/15\n",
            "739/739 [==============================] - 1s 2ms/step - loss: 0.4151 - acc: 0.8755 - val_loss: 0.6381 - val_acc: 0.7816\n",
            "Epoch 4/15\n",
            "739/739 [==============================] - 2s 2ms/step - loss: 0.3459 - acc: 0.8769 - val_loss: 0.5148 - val_acc: 0.8448\n",
            "Epoch 5/15\n",
            "739/739 [==============================] - 1s 2ms/step - loss: 0.2456 - acc: 0.9161 - val_loss: 0.5001 - val_acc: 0.8276\n",
            "Epoch 6/15\n",
            "739/739 [==============================] - 1s 2ms/step - loss: 0.1927 - acc: 0.9418 - val_loss: 0.4988 - val_acc: 0.8621\n",
            "Epoch 7/15\n",
            "739/739 [==============================] - 1s 2ms/step - loss: 0.1360 - acc: 0.9486 - val_loss: 0.4820 - val_acc: 0.8506\n",
            "Epoch 8/15\n",
            "739/739 [==============================] - 1s 2ms/step - loss: 0.0895 - acc: 0.9783 - val_loss: 0.6038 - val_acc: 0.8218\n",
            "Epoch 9/15\n",
            "739/739 [==============================] - 1s 2ms/step - loss: 0.0718 - acc: 0.9811 - val_loss: 0.4931 - val_acc: 0.8563\n",
            "Epoch 10/15\n",
            "739/739 [==============================] - 1s 2ms/step - loss: 0.0592 - acc: 0.9851 - val_loss: 0.5332 - val_acc: 0.8621\n",
            "Epoch 11/15\n",
            "739/739 [==============================] - 1s 2ms/step - loss: 0.0151 - acc: 0.9986 - val_loss: 0.6012 - val_acc: 0.8333\n",
            "Epoch 12/15\n",
            "739/739 [==============================] - 1s 2ms/step - loss: 0.0096 - acc: 0.9986 - val_loss: 0.5826 - val_acc: 0.8333\n",
            "Epoch 13/15\n",
            "739/739 [==============================] - 1s 2ms/step - loss: 0.0046 - acc: 1.0000 - val_loss: 0.6273 - val_acc: 0.8448\n",
            "Epoch 14/15\n",
            "739/739 [==============================] - 1s 2ms/step - loss: 0.0024 - acc: 1.0000 - val_loss: 0.6350 - val_acc: 0.8448\n",
            "Epoch 15/15\n",
            "739/739 [==============================] - 1s 2ms/step - loss: 0.0017 - acc: 1.0000 - val_loss: 0.6245 - val_acc: 0.8621\n"
          ],
          "name": "stdout"
        },
        {
          "output_type": "execute_result",
          "data": {
            "text/plain": [
              "<keras.callbacks.History at 0x7fe0e5ff20f0>"
            ]
          },
          "metadata": {
            "tags": []
          },
          "execution_count": 16
        }
      ]
    },
    {
      "cell_type": "code",
      "metadata": {
        "id": "6sthTm_TaZXc",
        "colab_type": "code",
        "colab": {
          "base_uri": "https://localhost:8080/",
          "height": 69
        },
        "outputId": "2208f166-977f-4d3d-acf2-08e196bdf612"
      },
      "source": [
        "loss, acc = classifier.evaluate(x_test,y_test)\n",
        "print('Test Loss = '+str(loss)+' | Test accuracy = '+str(acc))\n",
        "print(\"That's All Folks :p \")"
      ],
      "execution_count": 17,
      "outputs": [
        {
          "output_type": "stream",
          "text": [
            "325/325 [==============================] - 0s 389us/step\n",
            "Test Loss = 0.831963334450355 | Test accuracy = 0.8123076923993917\n",
            "That's All Folks :p \n"
          ],
          "name": "stdout"
        }
      ]
    },
    {
      "cell_type": "code",
      "metadata": {
        "id": "X6CI23utagUb",
        "colab_type": "code",
        "colab": {}
      },
      "source": [
        "x_train, y_train = dataPrepDecodaQuaternion('decoda/250_TRAIN_Q.data',isquat=False)\n",
        "x_dev,   y_dev   = dataPrepDecodaQuaternion('decoda/250_DEV_Q.data',  isquat=False)\n",
        "x_test,  y_test  = dataPrepDecodaQuaternion('decoda/250_TEST_Q.data', isquat=False)\n"
      ],
      "execution_count": 0,
      "outputs": []
    },
    {
      "cell_type": "code",
      "metadata": {
        "id": "rxmlSHNCa9Tg",
        "colab_type": "code",
        "colab": {}
      },
      "source": [
        "input_seq = Input((250,3))\n",
        "\n",
        "conv    = Conv1D(32, 3, strides=1, activation='relu', padding=\"same\")(input_seq)\n",
        "pool    = AveragePooling1D(2, padding='same')(conv)\n",
        "conv2   = Conv1D(64, 3, strides=1, activation='relu', padding=\"same\")(pool)\n",
        "pool2   = AveragePooling1D(4, padding='same')(conv2)\n",
        "\n",
        "       \n",
        "flat    = Flatten()(pool2)\n",
        "dense  = Dense(256, activation='relu')(flat)\n",
        "\n",
        "output = Dense(8, activation='softmax')(dense)\n",
        "classifier=Model(input_seq, output)"
      ],
      "execution_count": 0,
      "outputs": []
    },
    {
      "cell_type": "code",
      "metadata": {
        "id": "c_DH8aGqajq6",
        "colab_type": "code",
        "colab": {
          "base_uri": "https://localhost:8080/",
          "height": 121
        },
        "outputId": "20421e49-8062-459a-de3f-e36a829e2b18"
      },
      "source": [
        "print('Train size : '+str(x_train.shape[0]))\n",
        "print('Dev size   : '+str(x_dev.shape[0]))\n",
        "print('Test size  : '+str(x_test.shape[0]))\n",
        "\n",
        "print('Parameters    -------------------------------')\n",
        "opt = Adam(lr = 0.0005)\n",
        "print('learning rate   : '+str(0.0005))\n",
        "print('Model type      : '+str(\"CNN\"))"
      ],
      "execution_count": 20,
      "outputs": [
        {
          "output_type": "stream",
          "text": [
            "Train size : 739\n",
            "Dev size   : 174\n",
            "Test size  : 325\n",
            "Parameters    -------------------------------\n",
            "learning rate   : 0.0005\n",
            "Model type      : CNN\n"
          ],
          "name": "stdout"
        }
      ]
    },
    {
      "cell_type": "code",
      "metadata": {
        "id": "loPr3veObNv9",
        "colab_type": "code",
        "colab": {
          "base_uri": "https://localhost:8080/",
          "height": 486
        },
        "outputId": "94ac6d43-595f-4116-9a3e-071897f82f69"
      },
      "source": [
        "print(' ')\n",
        "print('Model Summary ----------------------------')\n",
        "print(classifier.summary())\n"
      ],
      "execution_count": 21,
      "outputs": [
        {
          "output_type": "stream",
          "text": [
            " \n",
            "Model Summary ----------------------------\n",
            "Model: \"model_2\"\n",
            "_________________________________________________________________\n",
            "Layer (type)                 Output Shape              Param #   \n",
            "=================================================================\n",
            "input_2 (InputLayer)         (None, 250, 3)            0         \n",
            "_________________________________________________________________\n",
            "conv1d_1 (Conv1D)            (None, 250, 32)           320       \n",
            "_________________________________________________________________\n",
            "average_pooling1d_3 (Average (None, 125, 32)           0         \n",
            "_________________________________________________________________\n",
            "conv1d_2 (Conv1D)            (None, 125, 64)           6208      \n",
            "_________________________________________________________________\n",
            "average_pooling1d_4 (Average (None, 32, 64)            0         \n",
            "_________________________________________________________________\n",
            "flatten_2 (Flatten)          (None, 2048)              0         \n",
            "_________________________________________________________________\n",
            "dense_2 (Dense)              (None, 256)               524544    \n",
            "_________________________________________________________________\n",
            "dense_3 (Dense)              (None, 8)                 2056      \n",
            "=================================================================\n",
            "Total params: 533,128\n",
            "Trainable params: 533,128\n",
            "Non-trainable params: 0\n",
            "_________________________________________________________________\n",
            "None\n"
          ],
          "name": "stdout"
        }
      ]
    },
    {
      "cell_type": "code",
      "metadata": {
        "id": "3FG9rbXWbQI6",
        "colab_type": "code",
        "colab": {
          "base_uri": "https://localhost:8080/",
          "height": 573
        },
        "outputId": "61b33a39-0d6a-4356-d06d-8face77bf6df"
      },
      "source": [
        "classifier.compile(optimizer=opt, loss='categorical_crossentropy', metrics=['accuracy'])\n",
        "classifier.fit(x_train, y_train,\n",
        "                validation_data=(x_dev,y_dev),\n",
        "                epochs=15,\n",
        "                batch_size=3)\n"
      ],
      "execution_count": 22,
      "outputs": [
        {
          "output_type": "stream",
          "text": [
            "Train on 739 samples, validate on 174 samples\n",
            "Epoch 1/15\n",
            "739/739 [==============================] - 2s 2ms/step - loss: 1.2963 - acc: 0.5765 - val_loss: 0.7835 - val_acc: 0.7701\n",
            "Epoch 2/15\n",
            "739/739 [==============================] - 1s 1ms/step - loss: 0.6418 - acc: 0.8119 - val_loss: 0.6053 - val_acc: 0.8276\n",
            "Epoch 3/15\n",
            "739/739 [==============================] - 1s 1ms/step - loss: 0.5139 - acc: 0.8390 - val_loss: 0.5074 - val_acc: 0.8391\n",
            "Epoch 4/15\n",
            "739/739 [==============================] - 1s 1ms/step - loss: 0.4605 - acc: 0.8444 - val_loss: 0.6040 - val_acc: 0.7816\n",
            "Epoch 5/15\n",
            "739/739 [==============================] - 1s 1ms/step - loss: 0.4248 - acc: 0.8633 - val_loss: 0.5649 - val_acc: 0.8448\n",
            "Epoch 6/15\n",
            "739/739 [==============================] - 1s 1ms/step - loss: 0.3875 - acc: 0.8701 - val_loss: 0.4997 - val_acc: 0.8621\n",
            "Epoch 7/15\n",
            "739/739 [==============================] - 1s 2ms/step - loss: 0.3454 - acc: 0.8917 - val_loss: 0.5052 - val_acc: 0.8621\n",
            "Epoch 8/15\n",
            "739/739 [==============================] - 1s 2ms/step - loss: 0.3346 - acc: 0.8958 - val_loss: 0.4550 - val_acc: 0.8621\n",
            "Epoch 9/15\n",
            "739/739 [==============================] - 1s 1ms/step - loss: 0.2900 - acc: 0.9053 - val_loss: 0.5820 - val_acc: 0.8218\n",
            "Epoch 10/15\n",
            "739/739 [==============================] - 1s 1ms/step - loss: 0.2811 - acc: 0.9080 - val_loss: 0.4818 - val_acc: 0.8218\n",
            "Epoch 11/15\n",
            "739/739 [==============================] - 1s 1ms/step - loss: 0.2549 - acc: 0.9120 - val_loss: 0.5416 - val_acc: 0.8046\n",
            "Epoch 12/15\n",
            "739/739 [==============================] - 1s 1ms/step - loss: 0.2290 - acc: 0.9188 - val_loss: 0.5285 - val_acc: 0.8276\n",
            "Epoch 13/15\n",
            "739/739 [==============================] - 1s 1ms/step - loss: 0.1980 - acc: 0.9350 - val_loss: 0.5053 - val_acc: 0.8391\n",
            "Epoch 14/15\n",
            "739/739 [==============================] - 1s 1ms/step - loss: 0.1960 - acc: 0.9256 - val_loss: 0.5328 - val_acc: 0.8391\n",
            "Epoch 15/15\n",
            "739/739 [==============================] - 1s 1ms/step - loss: 0.1726 - acc: 0.9445 - val_loss: 0.4580 - val_acc: 0.8793\n"
          ],
          "name": "stdout"
        },
        {
          "output_type": "execute_result",
          "data": {
            "text/plain": [
              "<keras.callbacks.History at 0x7fe0e032d550>"
            ]
          },
          "metadata": {
            "tags": []
          },
          "execution_count": 22
        }
      ]
    },
    {
      "cell_type": "code",
      "metadata": {
        "id": "AQ_QoL5BbT9E",
        "colab_type": "code",
        "colab": {
          "base_uri": "https://localhost:8080/",
          "height": 69
        },
        "outputId": "fa81ed1a-8cf7-41b1-f81e-f4fb1f2b2975"
      },
      "source": [
        "loss, acc = classifier.evaluate(x_test,y_test)\n",
        "print('Test Loss = '+str(loss)+' | Test accuracy = '+str(acc))\n",
        "print(\"That's All Folks :p \")"
      ],
      "execution_count": 23,
      "outputs": [
        {
          "output_type": "stream",
          "text": [
            "325/325 [==============================] - 0s 153us/step\n",
            "Test Loss = 0.5396377257200388 | Test accuracy = 0.8307692311360286\n",
            "That's All Folks :p \n"
          ],
          "name": "stdout"
        }
      ]
    }
  ]
}