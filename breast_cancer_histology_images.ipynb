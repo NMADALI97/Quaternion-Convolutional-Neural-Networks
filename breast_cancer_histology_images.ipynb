{
  "nbformat": 4,
  "nbformat_minor": 0,
  "metadata": {
    "language_info": {
      "name": "python",
      "version": "3.6.4",
      "mimetype": "text/x-python",
      "codemirror_mode": {
        "name": "ipython",
        "version": 3
      },
      "pygments_lexer": "ipython3",
      "nbconvert_exporter": "python",
      "file_extension": ".py"
    },
    "kernelspec": {
      "name": "python3",
      "display_name": "Python 3"
    },
    "colab": {
      "name": "predict-idc-in-breast-cancer-histology-images.ipynb",
      "provenance": [],
      "collapsed_sections": []
    },
    "accelerator": "GPU"
  },
  "cells": [
    {
      "cell_type": "code",
      "metadata": {
        "id": "UcdKnKIeo5R5",
        "colab_type": "code",
        "colab": {
          "base_uri": "https://localhost:8080/",
          "height": 86
        },
        "outputId": "5e1401bd-500a-4170-80df-5a23c96a7045"
      },
      "source": [
        "!gdown https://drive.google.com/uc?id=107Qo3Fs_pdzByrOMpet4w8G0uNle2ooN\n",
        "\n",
        "import zipfile\n",
        "with zipfile.ZipFile(\"complexnn.zip\",\"r\") as zip_ref:\n",
        "    zip_ref.extractall()"
      ],
      "execution_count": 2,
      "outputs": [
        {
          "output_type": "stream",
          "text": [
            "Downloading...\n",
            "From: https://drive.google.com/uc?id=107Qo3Fs_pdzByrOMpet4w8G0uNle2ooN\n",
            "To: /content/complexnn.zip\n",
            "\r  0% 0.00/12.6k [00:00<?, ?B/s]\r100% 12.6k/12.6k [00:00<00:00, 20.3MB/s]\n"
          ],
          "name": "stdout"
        }
      ]
    },
    {
      "cell_type": "code",
      "metadata": {
        "_cell_guid": "bb9fe3ef-104a-4a98-9f87-b65906acf50f",
        "_kg_hide-input": true,
        "_uuid": "5a9827f8d703a8741175d1e7df3121632715bdd8",
        "trusted": true,
        "id": "h8wRmEayfzeB",
        "colab_type": "code",
        "colab": {
          "base_uri": "https://localhost:8080/",
          "height": 72
        },
        "outputId": "f7c8a505-8286-41b9-bad7-3e747fe27713"
      },
      "source": [
        "import pandas as pd\n",
        "import numpy as np\n",
        "import os\n",
        "\n",
        "from glob import glob\n",
        "import itertools\n",
        "import fnmatch\n",
        "import random\n",
        "import matplotlib.pylab as plt\n",
        "import seaborn as sns\n",
        "import cv2\n",
        "from sklearn.model_selection import train_test_split\n",
        "%matplotlib inline"
      ],
      "execution_count": 3,
      "outputs": [
        {
          "output_type": "stream",
          "text": [
            "/usr/local/lib/python3.6/dist-packages/statsmodels/tools/_testing.py:19: FutureWarning: pandas.util.testing is deprecated. Use the functions in the public API at pandas.testing instead.\n",
            "  import pandas.util.testing as tm\n"
          ],
          "name": "stderr"
        }
      ]
    },
    {
      "cell_type": "code",
      "metadata": {
        "id": "9WoDr7zYgVX7",
        "colab_type": "code",
        "colab": {
          "base_uri": "https://localhost:8080/",
          "height": 86
        },
        "outputId": "6b62daed-5773-459c-adbb-8ec20087664b"
      },
      "source": [
        "!gdown https://drive.google.com/uc?id=1tFoQJrwtMYCBMG0WH6unek9dc2sjfQZ4\n",
        "\n",
        "import zipfile\n",
        "with zipfile.ZipFile(\"breast-histopathology-images.zip\",\"r\") as zip_ref:\n",
        "    zip_ref.extractall(\"breast-histopathology-images\")"
      ],
      "execution_count": 9,
      "outputs": [
        {
          "output_type": "stream",
          "text": [
            "Downloading...\n",
            "From: https://drive.google.com/uc?id=1tFoQJrwtMYCBMG0WH6unek9dc2sjfQZ4\n",
            "To: /content/breast-histopathology-images.zip\n",
            "3.33GB [00:53, 62.4MB/s]\n"
          ],
          "name": "stdout"
        }
      ]
    },
    {
      "cell_type": "code",
      "metadata": {
        "_cell_guid": "765908c1-86cc-41df-8479-a39174231237",
        "_uuid": "1978266e1e2fe5d6eb9bdc17deb0d309441065a2",
        "trusted": true,
        "id": "EDYMenE3fzea",
        "colab_type": "code",
        "colab": {
          "base_uri": "https://localhost:8080/",
          "height": 191
        },
        "outputId": "51f427c9-d771-4a97-b065-f8a4b16ed859"
      },
      "source": [
        "imagePatches = glob('breast-histopathology-images/**/*.png', recursive=True)\n",
        "for filename in imagePatches[0:10]:\n",
        "    print(filename)"
      ],
      "execution_count": 10,
      "outputs": [
        {
          "output_type": "stream",
          "text": [
            "breast-histopathology-images/12751/1/12751_idx5_x2001_y1201_class1.png\n",
            "breast-histopathology-images/12751/1/12751_idx5_x1101_y2301_class1.png\n",
            "breast-histopathology-images/12751/1/12751_idx5_x1551_y2001_class1.png\n",
            "breast-histopathology-images/12751/1/12751_idx5_x1451_y2101_class1.png\n",
            "breast-histopathology-images/12751/1/12751_idx5_x2351_y2051_class1.png\n",
            "breast-histopathology-images/12751/1/12751_idx5_x1951_y1401_class1.png\n",
            "breast-histopathology-images/12751/1/12751_idx5_x2451_y2351_class1.png\n",
            "breast-histopathology-images/12751/1/12751_idx5_x501_y2101_class1.png\n",
            "breast-histopathology-images/12751/1/12751_idx5_x1251_y2351_class1.png\n",
            "breast-histopathology-images/12751/1/12751_idx5_x1701_y2401_class1.png\n"
          ],
          "name": "stdout"
        }
      ]
    },
    {
      "cell_type": "code",
      "metadata": {
        "_cell_guid": "939bc134-6122-4d4d-aa6c-89a47318896d",
        "_uuid": "aae6a2ec2ab20bd94422e29b147a45a880fb480a",
        "trusted": true,
        "id": "4nqsgflmfzfO",
        "colab_type": "code",
        "colab": {
          "base_uri": "https://localhost:8080/",
          "height": 159
        },
        "outputId": "ef3610ce-8b65-4859-97a1-1ec505eb0062"
      },
      "source": [
        "patternZero = '*class0.png'\n",
        "patternOne = '*class1.png'\n",
        "classZero = fnmatch.filter(imagePatches, patternZero)\n",
        "classOne = fnmatch.filter(imagePatches, patternOne)\n",
        "print(\"IDC(-)\\n\\n\",classZero[0:5],'\\n')\n",
        "print(\"IDC(+)\\n\\n\",classOne[0:5])"
      ],
      "execution_count": 11,
      "outputs": [
        {
          "output_type": "stream",
          "text": [
            "IDC(-)\n",
            "\n",
            " ['breast-histopathology-images/12751/0/12751_idx5_x1301_y451_class0.png', 'breast-histopathology-images/12751/0/12751_idx5_x1551_y1451_class0.png', 'breast-histopathology-images/12751/0/12751_idx5_x1201_y1501_class0.png', 'breast-histopathology-images/12751/0/12751_idx5_x1901_y1001_class0.png', 'breast-histopathology-images/12751/0/12751_idx5_x801_y1501_class0.png'] \n",
            "\n",
            "IDC(+)\n",
            "\n",
            " ['breast-histopathology-images/12751/1/12751_idx5_x2001_y1201_class1.png', 'breast-histopathology-images/12751/1/12751_idx5_x1101_y2301_class1.png', 'breast-histopathology-images/12751/1/12751_idx5_x1551_y2001_class1.png', 'breast-histopathology-images/12751/1/12751_idx5_x1451_y2101_class1.png', 'breast-histopathology-images/12751/1/12751_idx5_x2351_y2051_class1.png']\n"
          ],
          "name": "stdout"
        }
      ]
    },
    {
      "cell_type": "code",
      "metadata": {
        "id": "84MLYw_ch9Hw",
        "colab_type": "code",
        "colab": {}
      },
      "source": [
        "X=[]\n",
        "y=[]\n",
        "\n",
        "for u in classZero:\n",
        "  X.append(u)\n",
        "  y.append(0)\n",
        "\n",
        "for u in classOne:\n",
        "  X.append(u)\n",
        "  y.append(1)\n",
        "\n"
      ],
      "execution_count": 0,
      "outputs": []
    },
    {
      "cell_type": "code",
      "metadata": {
        "id": "ht7PNMsnioqu",
        "colab_type": "code",
        "colab": {}
      },
      "source": [
        "df = pd.DataFrame()\n",
        "df[\"images\"]=X\n",
        "df[\"labels\"]=y\n",
        "df=df.sample(frac=1)"
      ],
      "execution_count": 0,
      "outputs": []
    },
    {
      "cell_type": "code",
      "metadata": {
        "id": "cPHpbMZCkCbb",
        "colab_type": "code",
        "colab": {}
      },
      "source": [
        "def RgbToQuaternion(img):\n",
        " b,g,r = cv2.split(img)\n",
        "\n",
        " M=np.zeros((50,50,4))\n",
        " M[:,:,1]=r\n",
        " M[:,:,2]=g\n",
        " M[:,:,3]=b\n",
        " return(np.array(M))\n"
      ],
      "execution_count": 0,
      "outputs": []
    },
    {
      "cell_type": "code",
      "metadata": {
        "id": "Rjts5U_omEBN",
        "colab_type": "code",
        "colab": {}
      },
      "source": [
        "def batch_generator(df,batch_size,steps):\n",
        " idx=1\n",
        " while True: \n",
        "  yield load_data(df,idx-1,batch_size)## Yields data\n",
        "  if idx < steps:\n",
        "    idx+=1\n",
        "  else:\n",
        "    idx=1"
      ],
      "execution_count": 0,
      "outputs": []
    },
    {
      "cell_type": "code",
      "metadata": {
        "id": "Lc8AjGEVmN3Q",
        "colab_type": "code",
        "colab": {}
      },
      "source": [
        "def load_data(df,idx,batch_size):\n",
        " start=idx*batch_size\n",
        " end=(idx+1)*batch_size\n",
        " x = []\n",
        " y = [] \n",
        " for  row  in df.values[start:end,:]:\n",
        "  img=row[0]\n",
        "\n",
        "  full_size_image = cv2.imread(img)\n",
        "  X=cv2.resize(full_size_image, (50,50), interpolation=cv2.INTER_CUBIC)\n",
        "\n",
        "  image = RgbToQuaternion(X) /255.\n",
        "  x.append(image) \n",
        "  y.append(row[-1] )\n",
        "\n",
        " return (np.array(x).reshape(-1,50,50,4), np.array(y).reshape(-1))"
      ],
      "execution_count": 0,
      "outputs": []
    },
    {
      "cell_type": "code",
      "metadata": {
        "id": "es1vI6-hnmAU",
        "colab_type": "code",
        "colab": {}
      },
      "source": [
        "\n",
        "df_train, df_test = train_test_split(df, test_size=0.3)"
      ],
      "execution_count": 0,
      "outputs": []
    },
    {
      "cell_type": "code",
      "metadata": {
        "id": "-X9IR6Zun1ti",
        "colab_type": "code",
        "colab": {}
      },
      "source": [
        "train_batch_generator = batch_generator(df_train, 64,len(df_train)//64)\n",
        "test_batch_generator = batch_generator(df_test, 64,len(df_train)//64)"
      ],
      "execution_count": 0,
      "outputs": []
    },
    {
      "cell_type": "code",
      "metadata": {
        "id": "mYibjXz7pJ21",
        "colab_type": "code",
        "colab": {
          "base_uri": "https://localhost:8080/",
          "height": 34
        },
        "outputId": "5ba3e8af-2236-4165-834f-d16ae5b1430a"
      },
      "source": [
        "from   complexnn                             import *\n",
        "import keras\n",
        "from   keras.layers                          import *\n",
        "from   keras.models                          import Model\n",
        "import keras.backend                         as     K\n",
        "import numpy                                 as     np"
      ],
      "execution_count": 4,
      "outputs": [
        {
          "output_type": "stream",
          "text": [
            "Using TensorFlow backend.\n"
          ],
          "name": "stderr"
        }
      ]
    },
    {
      "cell_type": "code",
      "metadata": {
        "id": "6uGhIdaVxt5w",
        "colab_type": "code",
        "colab": {}
      },
      "source": [
        "\n",
        "\n",
        "from keras.optimizers import adam\n",
        "opt = adam(lr = 0.001,decay=1e-6)"
      ],
      "execution_count": 0,
      "outputs": []
    },
    {
      "cell_type": "code",
      "metadata": {
        "id": "PxVi3TsaoZnE",
        "colab_type": "code",
        "colab": {}
      },
      "source": [
        "input_seq = Input((50, 50, 4))\n",
        "O    =QuaternionConv2D(64, (3,3),activation='relu',padding='same')(input_seq)  \n",
        "O    = MaxPooling2D((2,2), padding='same')(O)\n",
        "\n",
        "O    =QuaternionConv2D(128, (3,3),activation='relu',padding='same')(input_seq)  \n",
        "O    = MaxPooling2D((2,2), padding='same')(O)\n",
        "\n",
        "O    =QuaternionConv2D(256, (3,3),activation='relu',padding='same')(input_seq)  \n",
        "O    = MaxPooling2D((2,2), padding='same')(O)\n",
        "\n",
        "O    = Flatten()(O)\n",
        "\n",
        "O  = QuaternionDense(256, activation='relu')(O)\n",
        "            \n",
        "O = Dense(1, activation='sigmoid')(O)\n",
        "model=Model(input_seq, O)\n",
        "            \n",
        "model.compile(optimizer=opt, loss='binary_crossentropy', metrics=['accuracy'])\n",
        "            \n",
        "            "
      ],
      "execution_count": 0,
      "outputs": []
    },
    {
      "cell_type": "code",
      "metadata": {
        "id": "u1ODtvCypu83",
        "colab_type": "code",
        "colab": {
          "base_uri": "https://localhost:8080/",
          "height": 52
        },
        "outputId": "2679bff0-9294-4370-e736-41ca691069a2"
      },
      "source": [
        "model.fit_generator(batch_generator(df_train, 128,len(df_train)//128),\\\n",
        "                    steps_per_epoch=len(df_train)//128,epochs=10,\\\n",
        "                    verbose=1,validation_data=batch_generator(df_test, 64,len(df_test)//64),validation_steps=len(df_test)//64)"
      ],
      "execution_count": 0,
      "outputs": [
        {
          "output_type": "stream",
          "text": [
            "Epoch 1/10\n",
            " 630/3035 [=====>........................] - ETA: 8:05 - loss: 8.8304 - accuracy: 0.8070"
          ],
          "name": "stdout"
        }
      ]
    }
  ]
}